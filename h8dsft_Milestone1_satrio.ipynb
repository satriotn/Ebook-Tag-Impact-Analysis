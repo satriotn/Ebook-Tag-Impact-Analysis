{
 "cells": [
  {
   "cell_type": "markdown",
   "metadata": {},
   "source": [
    "## A. Perkenalan\n",
    "\n",
    "Nama : satrio Tri Nugroho\n",
    "\n",
    "Kelas : HCK-021\n",
    "\n",
    "Link Dataset : https://www.kaggle.com/datasets/asaniczka/amazon-kindle-books-dataset-2023-130k-books/data\n",
    "\n",
    "Link Dashboard : https://public.tableau.com/views/Tableau_satrio/Dashboard1?:language=en-US&publish=yes&:sid=&:redirect=auth&:display_count=n&:origin=viz_share_link"
   ]
  },
  {
   "cell_type": "markdown",
   "metadata": {},
   "source": [
    "## B. Identifikasi Masalah"
   ]
  },
  {
   "cell_type": "markdown",
   "metadata": {},
   "source": [
    "### Latar Belakang"
   ]
  },
  {
   "cell_type": "markdown",
   "metadata": {},
   "source": [
    "Sebagai seorang data analyst di industri penerbitan, saya bertugas untuk mengungkap wawasan yang dapat membantu penerbit memahami kebutuhan dan preferensi pembaca. Dalam konteks persaingan yang semakin ketat, penting bagi penerbit untuk menganalisis faktor-faktor yang memengaruhi keputusan pembelian, ulasan buku. Dengan memanfaatkan data yang tersedia, saya berupaya mengidentifikasi tren dalam perilaku pembaca, sehingga penerbit dapat mengoptimalkan kualitas buku dan strategi pemasaran mereka. Tujuan akhir dari analisis ini adalah untuk meningkatkan keterlibatan pembaca dan mendorong penjualan, memastikan bahwa penerbit tetap relevan dalam pasar yang dinamis ini."
   ]
  },
  {
   "cell_type": "markdown",
   "metadata": {},
   "source": [
    "### Smart Analysis"
   ]
  },
  {
   "cell_type": "markdown",
   "metadata": {},
   "source": [
    "**Spesifik** : Menganalisis seberapa besar dampak tag premium seperti GoodReads Choice, Editor's Pick, dan BestSeller terhadap jumlah review dan genre buku untuk melihat seberapa efektif tag tersebut dalam menarik perhatian pembaca dan meningkatkan keterlibatan mereka dengan konten buku.\n",
    "\n",
    "**Measureable** : Meningkatkan keterlibatan pembaca sebesar 10% dengan memfokuskan pada peningkatan jumlah jumlah review selama 12 bulan ke depan.\n",
    "\n",
    "**Achievable** : Melakukan analisis dampak tag premium terhadap data jumlah review untuk mengidentifikasi buku dengan keterlibatan tinggi\n",
    "\n",
    "**Relevant** : Tujuan ini mendukung prioritas penerbit untuk memahami tren pembaca, meningkatkan kualitas buku, serta mengarahkan kampanye pemasaran yang lebih efektif. Dengan meningkatkan keterlibatan pembaca, penerbit dapat menarik audiens yang lebih luas dan memperkuat posisi di pasar.\n",
    "\n",
    "**Time-Bound** :  Implementasi strategi berdasarkan hasil analisis akan dilakukan dalam waktu 1 tahun. Evaluasi secara berkala akan dilakukan setiap 3 bulan untuk menilai kemajuan dan melakukan penyesuaian jika diperlukan."
   ]
  },
  {
   "cell_type": "markdown",
   "metadata": {},
   "source": [
    "User : Penerbit"
   ]
  },
  {
   "cell_type": "markdown",
   "metadata": {},
   "source": [
    "### Problem Breakdown"
   ]
  },
  {
   "cell_type": "markdown",
   "metadata": {},
   "source": [
    "**Penjabaran Masalah**\n",
    "\n",
    "1. Bagaimana distribusi jumlah review untuk setiap tag? (Deskriptif)\n",
    "\n",
    "2. Apakah terdapat korelasi antara tag dan jumlah review? (Inferensial/ANOVA)\n",
    "\n",
    "3. Genre mana yang paling diminati berdasarkan jumlah review di setiap tag? (Visualisasi/Bar)\n",
    "\n",
    "4. Tag mana yang paling berpengaruh berdasarkan jumlah review? (Visualisasi/Bar)\n",
    "\n",
    "5. Genre mana yang memiliki jumlah review terbanyak di setiap kategori tag (Non-Tag, BestSeller, GoodReads Choice, Editor's Pick)? (Visualisasi/Bar)\n",
    "\n",
    "6. Bagaimana tren jumlah review untuk setiap tag? (Visualisasi/Line)\n",
    "\n"
   ]
  },
  {
   "cell_type": "markdown",
   "metadata": {},
   "source": [
    "## C. Data Loading"
   ]
  },
  {
   "cell_type": "markdown",
   "metadata": {},
   "source": [
    "### 1. Read Data from csv to dataframe"
   ]
  },
  {
   "cell_type": "code",
   "execution_count": 377,
   "metadata": {},
   "outputs": [],
   "source": [
    "import pandas as pd\n",
    "import plotly.express as px\n",
    "import plotly.graph_objects as go\n",
    "\n",
    "# Read the CSV file into a DataFrame\n",
    "df = pd.read_csv('kindle_data-v2.csv')"
   ]
  },
  {
   "cell_type": "markdown",
   "metadata": {},
   "source": [
    "Berikut adalah data loading dari csv. dan import library yang dibutuhkan untuk analysis ini"
   ]
  },
  {
   "cell_type": "markdown",
   "metadata": {},
   "source": [
    "Untuk melakukan analisis yang lebih relevan saya menggunakan data ebook untuk 10 tahun terakhir dengan data publishdate yang lengkap"
   ]
  },
  {
   "cell_type": "code",
   "execution_count": 378,
   "metadata": {},
   "outputs": [
    {
     "name": "stdout",
     "output_type": "stream",
     "text": [
      "Jumlah data dengan publishedDate antara 2013 dan 2023: 69891\n"
     ]
    }
   ],
   "source": [
    "# Pastikan kolom 'publishedDate' dalam format datetime\n",
    "df['publishedDate'] = pd.to_datetime(df['publishedDate'])\n",
    "\n",
    "# Filter data untuk tahun 2018 hingga 2023\n",
    "df = df[(df['publishedDate'].dt.year >= 2013) & (df['publishedDate'].dt.year <= 2023)]\n",
    "\n",
    "# Hitung jumlah data yang terfilter\n",
    "count_filtered_data = filtered_data.shape[0]\n",
    "\n",
    "print(f'Jumlah data dengan publishedDate antara 2013 dan 2023: {count_filtered_data}')\n"
   ]
  },
  {
   "cell_type": "code",
   "execution_count": 380,
   "metadata": {},
   "outputs": [
    {
     "data": {
      "text/html": [
       "<div>\n",
       "<style scoped>\n",
       "    .dataframe tbody tr th:only-of-type {\n",
       "        vertical-align: middle;\n",
       "    }\n",
       "\n",
       "    .dataframe tbody tr th {\n",
       "        vertical-align: top;\n",
       "    }\n",
       "\n",
       "    .dataframe thead th {\n",
       "        text-align: right;\n",
       "    }\n",
       "</style>\n",
       "<table border=\"1\" class=\"dataframe\">\n",
       "  <thead>\n",
       "    <tr style=\"text-align: right;\">\n",
       "      <th></th>\n",
       "      <th>stars</th>\n",
       "      <th>reviews</th>\n",
       "      <th>price</th>\n",
       "      <th>category_id</th>\n",
       "      <th>publishedDate</th>\n",
       "    </tr>\n",
       "  </thead>\n",
       "  <tbody>\n",
       "    <tr>\n",
       "      <th>count</th>\n",
       "      <td>69891.000000</td>\n",
       "      <td>69891.000000</td>\n",
       "      <td>69891.000000</td>\n",
       "      <td>69891.000000</td>\n",
       "      <td>69891</td>\n",
       "    </tr>\n",
       "    <tr>\n",
       "      <th>mean</th>\n",
       "      <td>4.365146</td>\n",
       "      <td>646.951525</td>\n",
       "      <td>19.093639</td>\n",
       "      <td>15.759683</td>\n",
       "      <td>2020-01-24 11:04:43.864875264</td>\n",
       "    </tr>\n",
       "    <tr>\n",
       "      <th>min</th>\n",
       "      <td>0.000000</td>\n",
       "      <td>0.000000</td>\n",
       "      <td>0.000000</td>\n",
       "      <td>1.000000</td>\n",
       "      <td>2013-01-01 00:00:00</td>\n",
       "    </tr>\n",
       "    <tr>\n",
       "      <th>25%</th>\n",
       "      <td>4.400000</td>\n",
       "      <td>0.000000</td>\n",
       "      <td>7.990000</td>\n",
       "      <td>9.000000</td>\n",
       "      <td>2017-11-24 00:00:00</td>\n",
       "    </tr>\n",
       "    <tr>\n",
       "      <th>50%</th>\n",
       "      <td>4.600000</td>\n",
       "      <td>0.000000</td>\n",
       "      <td>11.990000</td>\n",
       "      <td>15.000000</td>\n",
       "      <td>2020-10-06 00:00:00</td>\n",
       "    </tr>\n",
       "    <tr>\n",
       "      <th>75%</th>\n",
       "      <td>4.700000</td>\n",
       "      <td>133.000000</td>\n",
       "      <td>17.990000</td>\n",
       "      <td>24.000000</td>\n",
       "      <td>2022-10-01 00:00:00</td>\n",
       "    </tr>\n",
       "    <tr>\n",
       "      <th>max</th>\n",
       "      <td>5.000000</td>\n",
       "      <td>618227.000000</td>\n",
       "      <td>682.000000</td>\n",
       "      <td>31.000000</td>\n",
       "      <td>2023-12-05 00:00:00</td>\n",
       "    </tr>\n",
       "    <tr>\n",
       "      <th>std</th>\n",
       "      <td>0.876664</td>\n",
       "      <td>5604.943028</td>\n",
       "      <td>27.052503</td>\n",
       "      <td>8.509891</td>\n",
       "      <td>NaN</td>\n",
       "    </tr>\n",
       "  </tbody>\n",
       "</table>\n",
       "</div>"
      ],
      "text/plain": [
       "              stars        reviews         price   category_id  \\\n",
       "count  69891.000000   69891.000000  69891.000000  69891.000000   \n",
       "mean       4.365146     646.951525     19.093639     15.759683   \n",
       "min        0.000000       0.000000      0.000000      1.000000   \n",
       "25%        4.400000       0.000000      7.990000      9.000000   \n",
       "50%        4.600000       0.000000     11.990000     15.000000   \n",
       "75%        4.700000     133.000000     17.990000     24.000000   \n",
       "max        5.000000  618227.000000    682.000000     31.000000   \n",
       "std        0.876664    5604.943028     27.052503      8.509891   \n",
       "\n",
       "                       publishedDate  \n",
       "count                          69891  \n",
       "mean   2020-01-24 11:04:43.864875264  \n",
       "min              2013-01-01 00:00:00  \n",
       "25%              2017-11-24 00:00:00  \n",
       "50%              2020-10-06 00:00:00  \n",
       "75%              2022-10-01 00:00:00  \n",
       "max              2023-12-05 00:00:00  \n",
       "std                              NaN  "
      ]
     },
     "execution_count": 380,
     "metadata": {},
     "output_type": "execute_result"
    }
   ],
   "source": [
    "df.describe()"
   ]
  },
  {
   "cell_type": "markdown",
   "metadata": {},
   "source": [
    "### 2. Data Exploration"
   ]
  },
  {
   "cell_type": "markdown",
   "metadata": {},
   "source": [
    "#### Data Summary"
   ]
  },
  {
   "cell_type": "markdown",
   "metadata": {},
   "source": [
    "##### 1. Column And Datatype Handling"
   ]
  },
  {
   "cell_type": "code",
   "execution_count": 261,
   "metadata": {},
   "outputs": [
    {
     "name": "stdout",
     "output_type": "stream",
     "text": [
      "<class 'pandas.core.frame.DataFrame'>\n",
      "RangeIndex: 133102 entries, 0 to 133101\n",
      "Data columns (total 16 columns):\n",
      " #   Column             Non-Null Count   Dtype  \n",
      "---  ------             --------------   -----  \n",
      " 0   asin               133102 non-null  object \n",
      " 1   title              133102 non-null  object \n",
      " 2   author             132677 non-null  object \n",
      " 3   soldBy             123869 non-null  object \n",
      " 4   imgUrl             133102 non-null  object \n",
      " 5   productURL         133102 non-null  object \n",
      " 6   stars              133102 non-null  float64\n",
      " 7   reviews            133102 non-null  int64  \n",
      " 8   price              133102 non-null  float64\n",
      " 9   isKindleUnlimited  133102 non-null  bool   \n",
      " 10  category_id        133102 non-null  int64  \n",
      " 11  isBestSeller       133102 non-null  bool   \n",
      " 12  isEditorsPick      133102 non-null  bool   \n",
      " 13  isGoodReadsChoice  133102 non-null  bool   \n",
      " 14  publishedDate      84086 non-null   object \n",
      " 15  category_name      133102 non-null  object \n",
      "dtypes: bool(4), float64(2), int64(2), object(8)\n",
      "memory usage: 12.7+ MB\n"
     ]
    }
   ],
   "source": [
    "df.info()"
   ]
  },
  {
   "cell_type": "markdown",
   "metadata": {},
   "source": [
    "**Insight dan Rencana Tindakan Berdasarkan df.info()**\n",
    "\n",
    "Setelah melakukan analisis awal terhadap dataset eBook di Amazon, saya menemukan beberapa temuan penting yang memerlukan tindakan selanjutnya:\n",
    "\n",
    "1. **Penghapusan Kolom yang Tidak Relevan**:\n",
    "   - **asin**: Kolom ini tidak diperlukan untuk analisis lebih lanjut.\n",
    "   - **imgurl**: Informasi gambar tidak relevan dalam konteks analisis ini.\n",
    "   - **producturl**: Tautan produk tidak diperlukan untuk tujuan analisis data.\n",
    "   - **category_id**: Kolom ini redundant karena informasi yang sama sudah tersedia di kolom **`category_name`**.\n",
    "\n",
    "2. **Perbaikan Tipe Data**:\n",
    "   - Kolom **`publishedDate`** saat ini memiliki tipe data `object`, yang tidak sesuai untuk analisis waktu. Saya akan mengonversi kolom ini menjadi tipe **`datetime`** untuk memudahkan analisis terkait publikasi buku.\n",
    "\n",
    "Langkah-langkah ini akan membantu dalam memastikan bahwa dataset yang digunakan untuk analisis selanjutnya lebih bersih dan terfokus pada informasi yang relevan, sehingga analisis dapat dilakukan dengan lebih efektif.\n"
   ]
  },
  {
   "cell_type": "markdown",
   "metadata": {},
   "source": [
    "##### 2. Describe"
   ]
  },
  {
   "cell_type": "code",
   "execution_count": 262,
   "metadata": {},
   "outputs": [
    {
     "data": {
      "text/html": [
       "<div>\n",
       "<style scoped>\n",
       "    .dataframe tbody tr th:only-of-type {\n",
       "        vertical-align: middle;\n",
       "    }\n",
       "\n",
       "    .dataframe tbody tr th {\n",
       "        vertical-align: top;\n",
       "    }\n",
       "\n",
       "    .dataframe thead th {\n",
       "        text-align: right;\n",
       "    }\n",
       "</style>\n",
       "<table border=\"1\" class=\"dataframe\">\n",
       "  <thead>\n",
       "    <tr style=\"text-align: right;\">\n",
       "      <th></th>\n",
       "      <th>stars</th>\n",
       "      <th>reviews</th>\n",
       "      <th>price</th>\n",
       "    </tr>\n",
       "  </thead>\n",
       "  <tbody>\n",
       "    <tr>\n",
       "      <th>count</th>\n",
       "      <td>133102.000000</td>\n",
       "      <td>133102.000000</td>\n",
       "      <td>133102.000000</td>\n",
       "    </tr>\n",
       "    <tr>\n",
       "      <th>mean</th>\n",
       "      <td>4.404090</td>\n",
       "      <td>887.375779</td>\n",
       "      <td>15.134127</td>\n",
       "    </tr>\n",
       "    <tr>\n",
       "      <th>std</th>\n",
       "      <td>0.745646</td>\n",
       "      <td>5104.878777</td>\n",
       "      <td>22.254986</td>\n",
       "    </tr>\n",
       "    <tr>\n",
       "      <th>min</th>\n",
       "      <td>0.000000</td>\n",
       "      <td>0.000000</td>\n",
       "      <td>0.000000</td>\n",
       "    </tr>\n",
       "    <tr>\n",
       "      <th>25%</th>\n",
       "      <td>4.400000</td>\n",
       "      <td>0.000000</td>\n",
       "      <td>4.990000</td>\n",
       "    </tr>\n",
       "    <tr>\n",
       "      <th>50%</th>\n",
       "      <td>4.500000</td>\n",
       "      <td>4.000000</td>\n",
       "      <td>9.990000</td>\n",
       "    </tr>\n",
       "    <tr>\n",
       "      <th>75%</th>\n",
       "      <td>4.700000</td>\n",
       "      <td>365.000000</td>\n",
       "      <td>14.990000</td>\n",
       "    </tr>\n",
       "    <tr>\n",
       "      <th>max</th>\n",
       "      <td>5.000000</td>\n",
       "      <td>618227.000000</td>\n",
       "      <td>682.000000</td>\n",
       "    </tr>\n",
       "  </tbody>\n",
       "</table>\n",
       "</div>"
      ],
      "text/plain": [
       "               stars        reviews          price\n",
       "count  133102.000000  133102.000000  133102.000000\n",
       "mean        4.404090     887.375779      15.134127\n",
       "std         0.745646    5104.878777      22.254986\n",
       "min         0.000000       0.000000       0.000000\n",
       "25%         4.400000       0.000000       4.990000\n",
       "50%         4.500000       4.000000       9.990000\n",
       "75%         4.700000     365.000000      14.990000\n",
       "max         5.000000  618227.000000     682.000000"
      ]
     },
     "execution_count": 262,
     "metadata": {},
     "output_type": "execute_result"
    }
   ],
   "source": [
    "df[['stars', 'reviews', 'price']].describe()"
   ]
  },
  {
   "cell_type": "markdown",
   "metadata": {},
   "source": [
    "Berdasarkan hasil analisis deskriptif pada kolom **`stars`**, **`reviews`**, dan **`price`**, berikut adalah beberapa temuan dan tindakan yang akan dilakukan:\n",
    "\n",
    "1. **Kolom `stars`**:\n",
    "   - **Rata-rata**: 4.40, menunjukkan bahwa sebagian besar eBook memiliki rating yang baik.\n",
    "   - **Min dan Max**: Rentang rating dari 0.0 hingga 5.0, dengan rating terendah 0.0 yang mungkin menunjukkan eBook dengan review yang sangat buruk atau tidak ada rating sama sekali.\n",
    "   - **Distribusi**: Dengan standar deviasi (std) 0.75, terdapat variasi yang cukup kecil di sekitar rata-rata, menunjukkan bahwa sebagian besar rating cenderung berkumpul di sekitar nilai 4.4.\n",
    "\n",
    "   Tindakan:\n",
    "   - Menganalisis lebih lanjut eBook yang memiliki rating 0.0 untuk menentukan apakah ada kesalahan dalam data atau jika eBook tersebut memang tidak layak untuk dinilai.\n",
    "\n",
    "2. **Kolom `reviews`**:\n",
    "   - **Rata-rata**: 887.38, menunjukkan bahwa banyak eBook memiliki jumlah ulasan yang cukup tinggi.\n",
    "   - **Min dan Max**: Rentang dari 0 hingga 618227, dengan outlier yang sangat signifikan di 618227, menunjukkan ada eBook yang memiliki jumlah ulasan yang ekstrem.\n",
    "   - **Distribusi**: Standar deviasi yang tinggi (5104.88) menunjukkan variasi yang besar dalam jumlah ulasan.\n",
    "\n",
    "   Tindakan:\n",
    "   - Mengidentifikasi dan menganalisis eBook dengan jumlah ulasan ekstrem (outlier) untuk memahami apakah ini merupakan hasil dari praktik marketing yang agresif atau karena eBook tersebut memang sangat populer.\n",
    "\n",
    "3. **Kolom `price`**:\n",
    "   - **Rata-rata**: 15.13, menunjukkan harga rata-rata eBook.\n",
    "   - **Min dan Max**: Rentang dari 0.0 hingga 682.0, dengan beberapa eBook yang dijual dengan harga sangat tinggi, yang bisa jadi outlier.\n",
    "   - **Distribusi**: Standar deviasi 22.25 menunjukkan bahwa harga eBook bervariasi cukup luas.\n",
    "\n",
    "   Tindakan:\n",
    "   - Memeriksa eBook dengan harga 0.0 untuk memastikan tidak ada kesalahan dalam data dan mengidentifikasi eBook dengan harga tinggi untuk menganalisis apakah harga tersebut berbanding lurus dengan rating dan jumlah ulasan.\n",
    "\n",
    "Dengan langkah-langkah ini, analisis dapat difokuskan pada pemahaman lebih mendalam mengenai faktor-faktor yang mempengaruhi rating, ulasan, dan harga eBook di Amazon, sehingga dapat memberikan insight berharga bagi penerbit.\n"
   ]
  },
  {
   "cell_type": "markdown",
   "metadata": {},
   "source": [
    "#### Check Missing value"
   ]
  },
  {
   "cell_type": "code",
   "execution_count": 263,
   "metadata": {},
   "outputs": [
    {
     "data": {
      "text/plain": [
       "title                   0\n",
       "author                 82\n",
       "soldBy               4919\n",
       "reviews                 0\n",
       "price                   0\n",
       "isBestSeller            0\n",
       "isEditorsPick           0\n",
       "isGoodReadsChoice       0\n",
       "publishedDate           0\n",
       "category_name           0\n",
       "tag                     0\n",
       "dtype: int64"
      ]
     },
     "execution_count": 402,
     "metadata": {},
     "output_type": "execute_result"
    }
   ],
   "source": [
    "df.isnull().sum()"
   ]
  },
  {
   "cell_type": "code",
   "execution_count": 264,
   "metadata": {},
   "outputs": [
    {
     "name": "stdout",
     "output_type": "stream",
     "text": [
      "Jumlah missing values pada 'soldBy': 9233\n",
      "Total entri dalam dataset: 133102\n",
      "Proporsi missing values: 6.94%\n"
     ]
    }
   ],
   "source": [
    "# Hitung jumlah missing values pada kolom 'publishedDate'\n",
    "missing_values_count = df['soldBy'].isnull().sum()\n",
    "\n",
    "# Hitung total jumlah entri dalam dataset\n",
    "total_entries = len(df)\n",
    "\n",
    "# Hitung proporsi missing values sebagai persentase\n",
    "missing_proportion = (missing_values_count / total_entries) * 100\n",
    "\n",
    "# Tampilkan hasil\n",
    "print(f\"Jumlah missing values pada 'soldBy': {missing_values_count}\")\n",
    "print(f\"Total entri dalam dataset: {total_entries}\")\n",
    "print(f\"Proporsi missing values: {missing_proportion:.2f}%\")\n"
   ]
  },
  {
   "cell_type": "markdown",
   "metadata": {},
   "source": [
    "Dari analisis missing values pada kolom `soldBy`, saya menemukan bahwa proporsi missing values adalah sekitar **6.94%** dari total dataset. Mengingat proporsi ini masih dalam rentang yang wajar dan tidak terlalu besar, saya memutuskan untuk **menghapuss entri yang memiliki missing values** pada kolom ini.\n",
    "\n",
    "Langkah-langkah yang akan diambil adalah sebagai berikut:\n",
    "\n",
    "1. **Menghapus Entri Missing**: Dengan menghapus entri yang tidak memiliki informasi pada kolom `soldBy`, saya dapat memastikan bahwa analisis yang dilakukan tidak terganggu oleh data yang hilang.\n",
    "  \n",
    "2. **Mempertahankan Kualitas Data**: Menghapus missing values membantu menjaga kualitas data dan memastikan bahwa analisis dilakukan pada data yang lengkap dan relevan.\n",
    "\n",
    "Dengan langkah ini, saya berharap dapat mendapatkan insight yang lebih jelas dan dapat diandalkan dari dataset.\n"
   ]
  },
  {
   "cell_type": "code",
   "execution_count": 265,
   "metadata": {},
   "outputs": [
    {
     "name": "stdout",
     "output_type": "stream",
     "text": [
      "Jumlah missing values pada 'author': 425\n",
      "Total entri dalam dataset: 133102\n",
      "Proporsi missing values: 0.32%\n"
     ]
    }
   ],
   "source": [
    "# Hitung jumlah missing values pada kolom 'publishedDate'\n",
    "missing_values_count = df['author'].isnull().sum()\n",
    "\n",
    "# Hitung total jumlah entri dalam dataset\n",
    "total_entries = len(df)\n",
    "\n",
    "# Hitung proporsi missing values sebagai persentase\n",
    "missing_proportion = (missing_values_count / total_entries) * 100\n",
    "\n",
    "# Tampilkan hasil\n",
    "print(f\"Jumlah missing values pada 'author': {missing_values_count}\")\n",
    "print(f\"Total entri dalam dataset: {total_entries}\")\n",
    "print(f\"Proporsi missing values: {missing_proportion:.2f}%\")\n"
   ]
  },
  {
   "cell_type": "markdown",
   "metadata": {},
   "source": [
    "Dari analisis missing values pada kolom `author`, saya menemukan bahwa jumlah missing values adalah **425**, yang merupakan sekitar **0.32%** dari total dataset. Mengingat proporsi missing values yang sangat kecil ini, saya memutuskan untuk **menghapus entri yang memiliki missing values** pada kolom ini.\n",
    "\n",
    "Langkah-langkah yang akan diambil adalah sebagai berikut:\n",
    "\n",
    "1. **Menghapus Entri Missing**: Menghapus entri yang tidak memiliki informasi pada kolom `author` akan membantu memastikan analisis yang dilakukan tidak terganggu oleh data yang hilang.\n",
    "\n",
    "2. **Menjaga Kualitas Data**: Dengan menghapus entri yang hilang, saya dapat memastikan bahwa data yang dianalisis adalah data yang lebih lengkap dan dapat diandalkan.\n",
    "\n",
    "Dengan langkah ini, saya berharap analisis yang dilakukan dapat memberikan insight yang lebih akurat dan berguna dari dataset.\n"
   ]
  },
  {
   "cell_type": "code",
   "execution_count": 266,
   "metadata": {},
   "outputs": [
    {
     "name": "stdout",
     "output_type": "stream",
     "text": [
      "Jumlah missing values pada 'publishedDate': 49016\n",
      "Total entri dalam dataset: 133102\n",
      "Proporsi missing values: 36.83%\n"
     ]
    }
   ],
   "source": [
    "# Hitung jumlah missing values pada kolom 'publishedDate'\n",
    "missing_values_count = df['publishedDate'].isnull().sum()\n",
    "\n",
    "# Hitung total jumlah entri dalam dataset\n",
    "total_entries = len(df)\n",
    "\n",
    "# Hitung proporsi missing values sebagai persentase\n",
    "missing_proportion = (missing_values_count / total_entries) * 100\n",
    "\n",
    "# Tampilkan hasil\n",
    "print(f\"Jumlah missing values pada 'publishedDate': {missing_values_count}\")\n",
    "print(f\"Total entri dalam dataset: {total_entries}\")\n",
    "print(f\"Proporsi missing values: {missing_proportion:.2f}%\")\n"
   ]
  },
  {
   "cell_type": "markdown",
   "metadata": {},
   "source": [
    "Menghadapi situasi di mana proporsi missing values pada kolom `publishedDate` mencapai sekitar **36.83%**, dan dengan pemahaman yang masih terbatas tentang teknik pengisian missing values, bijaknya adalah mengambil langkah yang lebih sederhana dan aman. Dalam hal ini, saya akan memutuskan untuk **menghapus kolom `publishedDate`** dari dataset.\n",
    "\n",
    "Alasan untuk keputusan ini adalah sebagai berikut:\n",
    "\n",
    "1. **Menghindari Kompleksitas**: Mengisi missing values dengan teknik yang mungkin belum saya kuasai dapat menyebabkan bias atau kesalahan dalam analisis. Menghapus kolom yang memiliki missing values signifikan lebih sederhana dan mengurangi risiko kesalahan.\n",
    "\n",
    "2. **Fokus pada Data Lain**: Dengan menghapus kolom ini, saya dapat lebih fokus pada kolom lain yang memiliki data lengkap dan relevan, sehingga analisis tetap berjalan dengan baik.\n",
    "\n",
    "3. **Menjaga Kualitas Analisis**: Dengan hanya menggunakan data yang lengkap, saya dapat memastikan hasil analisis lebih akurat dan dapat diandalkan.\n",
    "\n",
    "Setelah menghapus kolom `publishedDate`, saya akan melanjutkan analisis dengan fokus pada variabel lain yang ada di dataset, memastikan bahwa langkah-langkah yang diambil tetap sederhana dan efektif.\n"
   ]
  },
  {
   "cell_type": "markdown",
   "metadata": {},
   "source": [
    "### Visualisasi Distribusi"
   ]
  },
  {
   "cell_type": "code",
   "execution_count": 267,
   "metadata": {},
   "outputs": [
    {
     "data": {
      "image/png": "[encoded data removed]",
      "text/plain": [
       "<Figure size 1200x400 with 3 Axes>"
      ]
     },
     "metadata": {},
     "output_type": "display_data"
    },
    {
     "data": {
      "image/png": "[encoded data removed]",
      "text/plain": [
       "<Figure size 1200x400 with 3 Axes>"
      ]
     },
     "metadata": {},
     "output_type": "display_data"
    }
   ],
   "source": [
    "import pandas as pd\n",
    "import matplotlib.pyplot as plt\n",
    "import numpy as np\n",
    "\n",
    "# Misalkan df adalah DataFrame kamu\n",
    "# df = pd.read_csv('path_to_your_dataset.csv')  # Load your dataset\n",
    "\n",
    "# Membuat Histogram\n",
    "plt.figure(figsize=(12, 4))\n",
    "\n",
    "# Histogram untuk Stars\n",
    "plt.subplot(1, 3, 1)\n",
    "plt.hist(df['stars'], bins=30, color='skyblue', edgecolor='black')\n",
    "plt.title('Distribusi Stars')\n",
    "plt.xlabel('Stars')\n",
    "plt.ylabel('Frekuensi')\n",
    "\n",
    "# Histogram untuk Reviews\n",
    "plt.subplot(1, 3, 2)\n",
    "plt.hist(df['reviews'], bins=30, color='salmon', edgecolor='black')\n",
    "plt.title('Distribusi Reviews')\n",
    "plt.xlabel('Reviews')\n",
    "plt.ylabel('Frekuensi')\n",
    "\n",
    "# Histogram untuk Price\n",
    "plt.subplot(1, 3, 3)\n",
    "plt.hist(df['price'], bins=30, color='lightgreen', edgecolor='black')\n",
    "plt.title('Distribusi Price')\n",
    "plt.xlabel('Price')\n",
    "plt.ylabel('Frekuensi')\n",
    "\n",
    "plt.tight_layout()\n",
    "plt.show()\n",
    "\n",
    "# Membuat Boxplot\n",
    "plt.figure(figsize=(12, 4))\n",
    "\n",
    "# Boxplot untuk Stars\n",
    "plt.subplot(1, 3, 1)\n",
    "plt.boxplot(df['stars'], vert=False)\n",
    "plt.title('Boxplot Stars')\n",
    "plt.xlabel('Stars')\n",
    "\n",
    "# Boxplot untuk Reviews\n",
    "plt.subplot(1, 3, 2)\n",
    "plt.boxplot(df['reviews'], vert=False)\n",
    "plt.title('Boxplot Reviews')\n",
    "plt.xlabel('Reviews')\n",
    "\n",
    "# Boxplot untuk Price\n",
    "plt.subplot(1, 3, 3)\n",
    "plt.boxplot(df['price'], vert=False)\n",
    "plt.title('Boxplot Price')\n",
    "plt.xlabel('Price')\n",
    "\n",
    "plt.tight_layout()\n",
    "plt.show()\n"
   ]
  },
  {
   "cell_type": "markdown",
   "metadata": {},
   "source": [
    "- **Keputusan tentang Rating**: \n",
    "  - Memutuskan untuk **menyimpan baris dengan rating 0** meskipun menunjukkan kualitas yang sangat rendah. Hal ini memungkinkan analisis yang lebih komprehensif dan pemahaman tentang buku-buku yang mungkin memiliki potensi namun belum mendapatkan perhatian.\n",
    "\n",
    "- **Keputusan tentang Ulasan**:\n",
    "  - Mengadopsi pendekatan konservatif dengan **menghapus baris yang memiliki ulasan di bawah 10**. Dengan demikian, hanya buku-buku dengan ulasan yang lebih signifikan yang akan dianalisis, memastikan bahwa data yang digunakan lebih representatif dan relevan.\n",
    "\n",
    "- **Keputusan tentang Harga**\n",
    "  - Data harga juga diputuskan untuk tidak dihapus. Mempertahankan informasi harga adalah penting untuk menganalisis bagaimana harga berpengaruh terhadap rating dan ulasan, serta untuk melihat apakah ada pola tertentu yang muncul antara harga dan kualitas produk.\n",
    "\n",
    "- **Tujuan Analisis**:\n",
    "  - Langkah ini diambil untuk meningkatkan kualitas analisis dan fokus pada buku-buku yang lebih mampu mencerminkan preferensi dan kebiasaan pembaca secara lebih akurat.\n"
   ]
  },
  {
   "cell_type": "markdown",
   "metadata": {},
   "source": [
    "## D. Data Cleaning"
   ]
  },
  {
   "cell_type": "markdown",
   "metadata": {},
   "source": [
    "### Removing Unnecessary Columns"
   ]
  },
  {
   "cell_type": "code",
   "execution_count": 382,
   "metadata": {},
   "outputs": [],
   "source": [
    "# Hapus kolom yang tidak diperlukan\n",
    "df = df.drop(columns=['asin', 'imgUrl', 'productURL', 'category_id', 'stars', 'isKindleUnlimited'])"
   ]
  },
  {
   "cell_type": "markdown",
   "metadata": {},
   "source": [
    "Menghapus kolom2 yang tidak dipakai pada analisis ini"
   ]
  },
  {
   "cell_type": "markdown",
   "metadata": {},
   "source": [
    "### Data Type Correction"
   ]
  },
  {
   "cell_type": "code",
   "execution_count": 269,
   "metadata": {},
   "outputs": [],
   "source": [
    "# Ubah 'publishedDate' menjadi tipe datetime\n",
    "df['publishedDate'] = pd.to_datetime(df['publishedDate'], errors='coerce')"
   ]
  },
  {
   "cell_type": "markdown",
   "metadata": {},
   "source": [
    "mengganti data type agar bisa digunakan dengan baik di analisis ini"
   ]
  },
  {
   "cell_type": "markdown",
   "metadata": {},
   "source": [
    "### Handle Missing Value"
   ]
  },
  {
   "cell_type": "code",
   "execution_count": 270,
   "metadata": {},
   "outputs": [],
   "source": [
    "#Hapus baris dengan missing value di kolom author, soldBy, dan publishedDate\n",
    "df = df.dropna(subset=['author', 'soldBy', 'publishedDate'])"
   ]
  },
  {
   "cell_type": "markdown",
   "metadata": {},
   "source": [
    "menghapus data yang kosong agar analisis memiliki data yang konsisten"
   ]
  },
  {
   "cell_type": "code",
   "execution_count": 405,
   "metadata": {},
   "outputs": [
    {
     "name": "stdout",
     "output_type": "stream",
     "text": [
      "<class 'pandas.core.frame.DataFrame'>\n",
      "Index: 64972 entries, 0 to 133101\n",
      "Data columns (total 11 columns):\n",
      " #   Column             Non-Null Count  Dtype         \n",
      "---  ------             --------------  -----         \n",
      " 0   title              64972 non-null  object        \n",
      " 1   author             64972 non-null  object        \n",
      " 2   soldBy             64972 non-null  object        \n",
      " 3   reviews            64972 non-null  int64         \n",
      " 4   price              64972 non-null  float64       \n",
      " 5   isBestSeller       64972 non-null  bool          \n",
      " 6   isEditorsPick      64972 non-null  bool          \n",
      " 7   isGoodReadsChoice  64972 non-null  bool          \n",
      " 8   publishedDate      64972 non-null  datetime64[ns]\n",
      " 9   category_name      64972 non-null  object        \n",
      " 10  tag                64972 non-null  object        \n",
      "dtypes: bool(3), datetime64[ns](1), float64(1), int64(1), object(5)\n",
      "memory usage: 4.6+ MB\n"
     ]
    }
   ],
   "source": [
    "df.info()"
   ]
  },
  {
   "cell_type": "markdown",
   "metadata": {},
   "source": [
    "berikut hasil yang sudah bersih tidak ada lagi missing value, dan siap untuk digunakan untuk analisis ini"
   ]
  },
  {
   "cell_type": "markdown",
   "metadata": {},
   "source": [
    "## E. Analisis Dan Perhitungan"
   ]
  },
  {
   "cell_type": "markdown",
   "metadata": {},
   "source": [
    "### 1. Bagaimana distribusi jumlah review untuk setiap tag ? "
   ]
  },
  {
   "cell_type": "markdown",
   "metadata": {},
   "source": [
    "Menggunakan teknik ini untuk menjawab pertanyaan tentang distribusi jumlah review berdasarkan kategori tag sangat efektif karena memungkinkan Saya mengelompokkan data dengan jelas, menghasilkan statistik deskriptif yang memberikan wawasan mendalam tentang sebaran data. Dengan mendefinisikan kategori tag (BestSeller, EditorsPick, GoodReadsChoice, dan Non-Tag) dan menggunakan fungsi describe(), Saya bisa mendapatkan informasi penting seperti rata-rata, maksimum, dan kuartil. Ini membantu dalam mengidentifikasi pola, tren, dan perbandingan antar kategori, serta menjadi dasar untuk analisis lebih lanjut."
   ]
  },
  {
   "cell_type": "code",
   "execution_count": 406,
   "metadata": {},
   "outputs": [
    {
     "data": {
      "text/html": [
       "<div>\n",
       "<style scoped>\n",
       "    .dataframe tbody tr th:only-of-type {\n",
       "        vertical-align: middle;\n",
       "    }\n",
       "\n",
       "    .dataframe tbody tr th {\n",
       "        vertical-align: top;\n",
       "    }\n",
       "\n",
       "    .dataframe thead th {\n",
       "        text-align: right;\n",
       "    }\n",
       "</style>\n",
       "<table border=\"1\" class=\"dataframe\">\n",
       "  <thead>\n",
       "    <tr style=\"text-align: right;\">\n",
       "      <th></th>\n",
       "      <th>count</th>\n",
       "      <th>mean</th>\n",
       "      <th>std</th>\n",
       "      <th>min</th>\n",
       "      <th>25%</th>\n",
       "      <th>50%</th>\n",
       "      <th>75%</th>\n",
       "      <th>max</th>\n",
       "    </tr>\n",
       "    <tr>\n",
       "      <th>tag</th>\n",
       "      <th></th>\n",
       "      <th></th>\n",
       "      <th></th>\n",
       "      <th></th>\n",
       "      <th></th>\n",
       "      <th></th>\n",
       "      <th></th>\n",
       "      <th></th>\n",
       "    </tr>\n",
       "  </thead>\n",
       "  <tbody>\n",
       "    <tr>\n",
       "      <th>BestSeller</th>\n",
       "      <td>1139.0</td>\n",
       "      <td>1362.194908</td>\n",
       "      <td>6147.086626</td>\n",
       "      <td>0.0</td>\n",
       "      <td>0.0</td>\n",
       "      <td>13.0</td>\n",
       "      <td>415.5</td>\n",
       "      <td>133015.0</td>\n",
       "    </tr>\n",
       "    <tr>\n",
       "      <th>EditorsPick</th>\n",
       "      <td>3524.0</td>\n",
       "      <td>3485.581725</td>\n",
       "      <td>18052.310720</td>\n",
       "      <td>0.0</td>\n",
       "      <td>0.0</td>\n",
       "      <td>166.0</td>\n",
       "      <td>1311.5</td>\n",
       "      <td>618227.0</td>\n",
       "    </tr>\n",
       "    <tr>\n",
       "      <th>GoodReadsChoice</th>\n",
       "      <td>567.0</td>\n",
       "      <td>8054.148148</td>\n",
       "      <td>21656.846719</td>\n",
       "      <td>0.0</td>\n",
       "      <td>0.0</td>\n",
       "      <td>1341.0</td>\n",
       "      <td>6015.0</td>\n",
       "      <td>227722.0</td>\n",
       "    </tr>\n",
       "    <tr>\n",
       "      <th>Non-Tag</th>\n",
       "      <td>59742.0</td>\n",
       "      <td>357.175639</td>\n",
       "      <td>2311.288067</td>\n",
       "      <td>0.0</td>\n",
       "      <td>0.0</td>\n",
       "      <td>0.0</td>\n",
       "      <td>120.0</td>\n",
       "      <td>187920.0</td>\n",
       "    </tr>\n",
       "  </tbody>\n",
       "</table>\n",
       "</div>"
      ],
      "text/plain": [
       "                   count         mean           std  min  25%     50%     75%  \\\n",
       "tag                                                                             \n",
       "BestSeller        1139.0  1362.194908   6147.086626  0.0  0.0    13.0   415.5   \n",
       "EditorsPick       3524.0  3485.581725  18052.310720  0.0  0.0   166.0  1311.5   \n",
       "GoodReadsChoice    567.0  8054.148148  21656.846719  0.0  0.0  1341.0  6015.0   \n",
       "Non-Tag          59742.0   357.175639   2311.288067  0.0  0.0     0.0   120.0   \n",
       "\n",
       "                      max  \n",
       "tag                        \n",
       "BestSeller       133015.0  \n",
       "EditorsPick      618227.0  \n",
       "GoodReadsChoice  227722.0  \n",
       "Non-Tag          187920.0  "
      ]
     },
     "execution_count": 406,
     "metadata": {},
     "output_type": "execute_result"
    }
   ],
   "source": [
    "# Menentukan kategori tag\n",
    "df['tag'] = 'Non-Tag'\n",
    "df.loc[df['isBestSeller'], 'tag'] = 'BestSeller'\n",
    "df.loc[df['isEditorsPick'], 'tag'] = 'EditorsPick'\n",
    "df.loc[df['isGoodReadsChoice'], 'tag'] = 'GoodReadsChoice'\n",
    "\n",
    "# Menghitung deskripsi statistik untuk jumlah review berdasarkan tag\n",
    "review_stats_by_tag = df.groupby('tag')['reviews'].describe()\n",
    "\n",
    "# Menampilkan hasil\n",
    "review_stats_by_tag"
   ]
  },
  {
   "cell_type": "markdown",
   "metadata": {},
   "source": [
    "\n",
    "Analisis distribusi jumlah review berdasarkan kategori tag dapat dilakukan dengan mempertimbangkan statistik deskriptif berikut:\n",
    "\n",
    "- BestSeller:\n",
    "\n",
    "Jumlah Data: 1.139 review\n",
    "Rata-Rata: 1.362,19 review, menunjukkan bahwa rata-rata review untuk produk yang termasuk dalam kategori BestSeller cukup rendah dibandingkan dengan kategori lain.\n",
    "Standar Deviasi: 6.147,09, yang menunjukkan variabilitas yang tinggi dalam jumlah review, dengan beberapa produk menerima banyak review.\n",
    "Minimum: 0 review, menunjukkan bahwa ada produk BestSeller yang belum menerima review.\n",
    "Maksimum: 133.015 review, menunjukkan adanya produk yang sangat populer di kategori ini.\n",
    "\n",
    "- EditorsPick:\n",
    "\n",
    "Jumlah Data: 3.524 review\n",
    "Rata-Rata: 3.485,58 review, yang menunjukkan bahwa produk yang dipilih oleh editor cenderung memiliki jumlah review yang lebih tinggi dibandingkan BestSeller.\n",
    "Standar Deviasi: 18.052,31, menunjukkan variabilitas yang sangat besar. Beberapa produk di kategori ini mendapatkan sangat banyak review.\n",
    "Minimum: 0 review, sama seperti BestSeller, ada produk EditorsPick yang tidak mendapatkan review.\n",
    "Maksimum: 618.227 review, menandakan ada produk yang sangat sukses di kategori ini.\n",
    "\n",
    "- GoodReadsChoice:\n",
    "\n",
    "Jumlah Data: 567 review\n",
    "Rata-Rata: 8.054,15 review, yang merupakan jumlah tertinggi dibandingkan dengan ketiga kategori lainnya, menunjukkan bahwa produk dalam kategori ini sangat diminati.\n",
    "Standar Deviasi: 21.656,85, menunjukkan variabilitas yang sangat tinggi. Produk dalam kategori ini bisa sangat populer atau kurang mendapatkan perhatian.\n",
    "Minimum: 0 review, menunjukkan ada produk yang tidak mendapatkan review.\n",
    "Maksimum: 227.722 review, mengindikasikan adanya produk yang sangat berhasil di kategori ini.\n",
    "\n",
    "- Non-Tag:\n",
    "\n",
    "Jumlah Data: 59.742 review\n",
    "Rata-Rata: 357,18 review, menunjukkan bahwa produk yang tidak termasuk dalam kategori premium cenderung mendapatkan sedikit review.\n",
    "Standar Deviasi: 2.311,29, menunjukkan variasi yang lebih kecil dibandingkan dengan kategori lain.\n",
    "Minimum: 0 review, ada produk Non-Tag yang tidak mendapatkan review.\n",
    "Maksimum: 187.920 review, menunjukkan adanya produk yang cukup sukses meskipun tidak termasuk dalam kategori premium.\n",
    "Dari analisis ini, dapat disimpulkan bahwa kategori GoodReadsChoice memiliki rata-rata jumlah review tertinggi, menunjukkan popularitas yang lebih besar di antara pembaca. Sementara itu, EditorsPick memiliki jumlah data yang lebih banyak, yang menunjukkan bahwa produk dalam kategori ini juga banyak mendapatkan perhatian. Di sisi lain, kategori Non-Tag memiliki jumlah review yang jauh lebih rendah secara rata-rata, yang mungkin menunjukkan kurangnya daya tarik dibandingkan dengan kategori premium. Variabilitas yang tinggi di semua kategori menunjukkan bahwa ada produk yang sangat populer dan beberapa yang tidak mendapatkan perhatian sama sekali."
   ]
  },
  {
   "cell_type": "markdown",
   "metadata": {},
   "source": [
    "### 2. Apakah terdapat korelasi antara tag dan jumlah review?"
   ]
  },
  {
   "cell_type": "markdown",
   "metadata": {},
   "source": [
    "Menggunakan ANOVA dalam analisis ini bermanfaat untuk memahami apakah ada korelasi antara kategori tag dan jumlah review yang diterima. ANOVA memungkinkan kita untuk membandingkan rata-rata jumlah review di beberapa kelompok (dalam hal ini, tag) secara simultan. Dengan menganalisis variabilitas antara dan dalam kelompok, kita dapat mengidentifikasi apakah perbedaan jumlah review yang signifikan antara tag-tag yang berbeda menunjukkan adanya hubungan atau pola tertentu, yang dapat memberikan wawasan tentang preferensi pengguna berdasarkan tag yang ada."
   ]
  },
  {
   "cell_type": "code",
   "execution_count": 407,
   "metadata": {},
   "outputs": [
    {
     "name": "stdout",
     "output_type": "stream",
     "text": [
      "\n",
      "ANOVA untuk Jumlah Ulasan:\n",
      "P-value: 0.0\n",
      "\n",
      "Hipotesis:\n",
      "H0: Tidak ada korelasi antara tag dengan jumlah review.\n",
      "H1: Ada korelasi antara tag dengan jumlah review.\n"
     ]
    }
   ],
   "source": [
    "# Melakukan ANOVA untuk jumlah review berdasarkan tag\n",
    "reviews_groups = [\n",
    "    group['reviews'].values for name, group in df.groupby('isBestSeller')\n",
    "] + [\n",
    "    group['reviews'].values for name, group in df.groupby('isEditorsPick')\n",
    "] + [\n",
    "    group['reviews'].values for name, group in df.groupby('isGoodReadsChoice')\n",
    "]\n",
    "\n",
    "f_stat_reviews, p_value_reviews = stats.f_oneway(*reviews_groups)\n",
    "\n",
    "\n",
    "print(\"\\nANOVA untuk Jumlah Ulasan:\")\n",
    "print(\"P-value:\", p_value_reviews)\n",
    "\n",
    "# Hipotesis\n",
    "print(\"\\nHipotesis:\")\n",
    "print(\"H0: Tidak ada korelasi antara tag dengan jumlah review.\")\n",
    "print(\"H1: Ada korelasi antara tag dengan jumlah review.\")\n"
   ]
  },
  {
   "cell_type": "markdown",
   "metadata": {},
   "source": [
    "Hasil ANOVA dengan P-value sebesar 0.0 menunjukkan bahwa kita harus menolak hipotesis nol (H0) dan menerima hipotesis alternatif (H1). Hipotesis nol menyatakan bahwa tidak ada korelasi antara kategori tag dan jumlah review, sedangkan hipotesis alternatif menyatakan bahwa ada korelasi antara kategori tag dan jumlah review. Dengan P-value yang sangat kecil, ini mengindikasikan bahwa perbedaan dalam jumlah review berdasarkan kategori tag sangat signifikan, menandakan bahwa tag memang berpengaruh terhadap jumlah review yang diterima."
   ]
  },
  {
   "cell_type": "markdown",
   "metadata": {},
   "source": [
    "### 3. Genre mana yang paling diminati berdasarkan jumlah review di setiap tag?"
   ]
  },
  {
   "cell_type": "markdown",
   "metadata": {},
   "source": [
    "Saya memilih pie chart untuk menjelaskan distribusi jumlah review berdasarkan genre karena visualisasi ini efektif dalam menunjukkan proporsi setiap genre terhadap total review di setiap tag. Pie chart memudahkan perbandingan antara genre dengan jelas, sehingga pembaca dapat dengan cepat memahami kontribusi masing-masing genre tanpa harus menganalisis angka secara mendetail. Selain itu, kesederhanaan pie chart menjadikannya mudah dipahami oleh berbagai audiens, menjadikan informasi lebih jelas dan menarik."
   ]
  },
  {
   "cell_type": "code",
   "execution_count": 411,
   "metadata": {},
   "outputs": [
    {
     "name": "stderr",
     "output_type": "stream",
     "text": [
      "C:\\Users\\ThinkPad\\AppData\\Local\\Temp\\ipykernel_14476\\3612635612.py:11: DeprecationWarning:\n",
      "\n",
      "DataFrameGroupBy.apply operated on the grouping columns. This behavior is deprecated, and in a future version of pandas the grouping columns will be excluded from the operation. Either pass `include_groups=False` to exclude the groupings or explicitly select the grouping columns after groupby to silence this warning.\n",
      "\n"
     ]
    },
    {
     "data": {
      "application/vnd.plotly.v1+json": {
       "config": {
        "plotlyServerURL": "https://plot.ly"
       },
       "data": [
        {
         "customdata": [
          [
           "Literature & Fiction"
          ],
          [
           "Biographies & Memoirs"
          ],
          [
           "Religion & Spirituality"
          ],
          [
           "Politics & Social Sciences"
          ],
          [
           "Teen & Young Adult"
          ]
         ],
         "domain": {
          "x": [
           0,
           0.235
          ],
          "y": [
           0,
           1
          ]
         },
         "hovertemplate": "tag=BestSeller<br>category_name=%{customdata[0]}<br>reviews=%{value}<extra></extra>",
         "labels": [
          "Literature & Fiction",
          "Biographies & Memoirs",
          "Religion & Spirituality",
          "Politics & Social Sciences",
          "Teen & Young Adult"
         ],
         "legendgroup": "",
         "marker": {
          "colors": [
           "#636efa",
           "#EF553B",
           "#00cc96",
           "#ab63fa",
           "#FFA15A"
          ]
         },
         "name": "",
         "showlegend": true,
         "type": "pie",
         "values": [
          407556,
          367792,
          198958,
          134928,
          134391
         ]
        },
        {
         "customdata": [
          [
           "Literature & Fiction"
          ],
          [
           "Biographies & Memoirs"
          ],
          [
           "Teen & Young Adult"
          ],
          [
           "Politics & Social Sciences"
          ],
          [
           "History"
          ]
         ],
         "domain": {
          "x": [
           0.255,
           0.49
          ],
          "y": [
           0,
           1
          ]
         },
         "hovertemplate": "tag=EditorsPick<br>category_name=%{customdata[0]}<br>reviews=%{value}<extra></extra>",
         "labels": [
          "Literature & Fiction",
          "Biographies & Memoirs",
          "Teen & Young Adult",
          "Politics & Social Sciences",
          "History"
         ],
         "legendgroup": "",
         "marker": {
          "colors": [
           "#636efa",
           "#EF553B",
           "#00cc96",
           "#ab63fa",
           "#FFA15A"
          ]
         },
         "name": "",
         "showlegend": true,
         "type": "pie",
         "values": [
          7055825,
          3014803,
          689555,
          380588,
          290823
         ]
        },
        {
         "customdata": [
          [
           "Literature & Fiction"
          ],
          [
           "Biographies & Memoirs"
          ],
          [
           "Teen & Young Adult"
          ],
          [
           "Politics & Social Sciences"
          ],
          [
           "Nonfiction"
          ]
         ],
         "domain": {
          "x": [
           0.51,
           0.745
          ],
          "y": [
           0,
           1
          ]
         },
         "hovertemplate": "tag=GoodReadsChoice<br>category_name=%{customdata[0]}<br>reviews=%{value}<extra></extra>",
         "labels": [
          "Literature & Fiction",
          "Biographies & Memoirs",
          "Teen & Young Adult",
          "Politics & Social Sciences",
          "Nonfiction"
         ],
         "legendgroup": "",
         "marker": {
          "colors": [
           "#636efa",
           "#EF553B",
           "#00cc96",
           "#ab63fa",
           "#FFA15A"
          ]
         },
         "name": "",
         "showlegend": true,
         "type": "pie",
         "values": [
          2993059,
          743060,
          315305,
          228582,
          63315
         ]
        },
        {
         "customdata": [
          [
           "Literature & Fiction"
          ],
          [
           "Biographies & Memoirs"
          ],
          [
           "Religion & Spirituality"
          ],
          [
           "Politics & Social Sciences"
          ],
          [
           "Teen & Young Adult"
          ]
         ],
         "domain": {
          "x": [
           0.7649999999999999,
           0.9999999999999999
          ],
          "y": [
           0,
           1
          ]
         },
         "hovertemplate": "tag=Non-Tag<br>category_name=%{customdata[0]}<br>reviews=%{value}<extra></extra>",
         "labels": [
          "Literature & Fiction",
          "Biographies & Memoirs",
          "Religion & Spirituality",
          "Politics & Social Sciences",
          "Teen & Young Adult"
         ],
         "legendgroup": "",
         "marker": {
          "colors": [
           "#636efa",
           "#EF553B",
           "#00cc96",
           "#ab63fa",
           "#FFA15A"
          ]
         },
         "name": "",
         "showlegend": true,
         "type": "pie",
         "values": [
          5396750,
          3394644,
          2415464,
          1889081,
          1315484
         ]
        }
       ],
       "layout": {
        "annotations": [
         {
          "font": {},
          "showarrow": false,
          "text": "tag=BestSeller",
          "x": 0.1175,
          "xanchor": "center",
          "xref": "paper",
          "y": 1,
          "yanchor": "bottom",
          "yref": "paper"
         },
         {
          "font": {},
          "showarrow": false,
          "text": "tag=EditorsPick",
          "x": 0.3725,
          "xanchor": "center",
          "xref": "paper",
          "y": 1,
          "yanchor": "bottom",
          "yref": "paper"
         },
         {
          "font": {},
          "showarrow": false,
          "text": "tag=GoodReadsChoice",
          "x": 0.6275,
          "xanchor": "center",
          "xref": "paper",
          "y": 1,
          "yanchor": "bottom",
          "yref": "paper"
         },
         {
          "font": {},
          "showarrow": false,
          "text": "tag=Non-Tag",
          "x": 0.8824999999999998,
          "xanchor": "center",
          "xref": "paper",
          "y": 1,
          "yanchor": "bottom",
          "yref": "paper"
         }
        ],
        "legend": {
         "tracegroupgap": 0
        },
        "template": {
         "data": {
          "bar": [
           {
            "error_x": {
             "color": "#2a3f5f"
            },
            "error_y": {
             "color": "#2a3f5f"
            },
            "marker": {
             "line": {
              "color": "white",
              "width": 0.5
             },
             "pattern": {
              "fillmode": "overlay",
              "size": 10,
              "solidity": 0.2
             }
            },
            "type": "bar"
           }
          ],
          "barpolar": [
           {
            "marker": {
             "line": {
              "color": "white",
              "width": 0.5
             },
             "pattern": {
              "fillmode": "overlay",
              "size": 10,
              "solidity": 0.2
             }
            },
            "type": "barpolar"
           }
          ],
          "carpet": [
           {
            "aaxis": {
             "endlinecolor": "#2a3f5f",
             "gridcolor": "#C8D4E3",
             "linecolor": "#C8D4E3",
             "minorgridcolor": "#C8D4E3",
             "startlinecolor": "#2a3f5f"
            },
            "baxis": {
             "endlinecolor": "#2a3f5f",
             "gridcolor": "#C8D4E3",
             "linecolor": "#C8D4E3",
             "minorgridcolor": "#C8D4E3",
             "startlinecolor": "#2a3f5f"
            },
            "type": "carpet"
           }
          ],
          "choropleth": [
           {
            "colorbar": {
             "outlinewidth": 0,
             "ticks": ""
            },
            "type": "choropleth"
           }
          ],
          "contour": [
           {
            "colorbar": {
             "outlinewidth": 0,
             "ticks": ""
            },
            "colorscale": [
             [
              0,
              "#0d0887"
             ],
             [
              0.1111111111111111,
              "#46039f"
             ],
             [
              0.2222222222222222,
              "#7201a8"
             ],
             [
              0.3333333333333333,
              "#9c179e"
             ],
             [
              0.4444444444444444,
              "#bd3786"
             ],
             [
              0.5555555555555556,
              "#d8576b"
             ],
             [
              0.6666666666666666,
              "#ed7953"
             ],
             [
              0.7777777777777778,
              "#fb9f3a"
             ],
             [
              0.8888888888888888,
              "#fdca26"
             ],
             [
              1,
              "#f0f921"
             ]
            ],
            "type": "contour"
           }
          ],
          "contourcarpet": [
           {
            "colorbar": {
             "outlinewidth": 0,
             "ticks": ""
            },
            "type": "contourcarpet"
           }
          ],
          "heatmap": [
           {
            "colorbar": {
             "outlinewidth": 0,
             "ticks": ""
            },
            "colorscale": [
             [
              0,
              "#0d0887"
             ],
             [
              0.1111111111111111,
              "#46039f"
             ],
             [
              0.2222222222222222,
              "#7201a8"
             ],
             [
              0.3333333333333333,
              "#9c179e"
             ],
             [
              0.4444444444444444,
              "#bd3786"
             ],
             [
              0.5555555555555556,
              "#d8576b"
             ],
             [
              0.6666666666666666,
              "#ed7953"
             ],
             [
              0.7777777777777778,
              "#fb9f3a"
             ],
             [
              0.8888888888888888,
              "#fdca26"
             ],
             [
              1,
              "#f0f921"
             ]
            ],
            "type": "heatmap"
           }
          ],
          "heatmapgl": [
           {
            "colorbar": {
             "outlinewidth": 0,
             "ticks": ""
            },
            "colorscale": [
             [
              0,
              "#0d0887"
             ],
             [
              0.1111111111111111,
              "#46039f"
             ],
             [
              0.2222222222222222,
              "#7201a8"
             ],
             [
              0.3333333333333333,
              "#9c179e"
             ],
             [
              0.4444444444444444,
              "#bd3786"
             ],
             [
              0.5555555555555556,
              "#d8576b"
             ],
             [
              0.6666666666666666,
              "#ed7953"
             ],
             [
              0.7777777777777778,
              "#fb9f3a"
             ],
             [
              0.8888888888888888,
              "#fdca26"
             ],
             [
              1,
              "#f0f921"
             ]
            ],
            "type": "heatmapgl"
           }
          ],
          "histogram": [
           {
            "marker": {
             "pattern": {
              "fillmode": "overlay",
              "size": 10,
              "solidity": 0.2
             }
            },
            "type": "histogram"
           }
          ],
          "histogram2d": [
           {
            "colorbar": {
             "outlinewidth": 0,
             "ticks": ""
            },
            "colorscale": [
             [
              0,
              "#0d0887"
             ],
             [
              0.1111111111111111,
              "#46039f"
             ],
             [
              0.2222222222222222,
              "#7201a8"
             ],
             [
              0.3333333333333333,
              "#9c179e"
             ],
             [
              0.4444444444444444,
              "#bd3786"
             ],
             [
              0.5555555555555556,
              "#d8576b"
             ],
             [
              0.6666666666666666,
              "#ed7953"
             ],
             [
              0.7777777777777778,
              "#fb9f3a"
             ],
             [
              0.8888888888888888,
              "#fdca26"
             ],
             [
              1,
              "#f0f921"
             ]
            ],
            "type": "histogram2d"
           }
          ],
          "histogram2dcontour": [
           {
            "colorbar": {
             "outlinewidth": 0,
             "ticks": ""
            },
            "colorscale": [
             [
              0,
              "#0d0887"
             ],
             [
              0.1111111111111111,
              "#46039f"
             ],
             [
              0.2222222222222222,
              "#7201a8"
             ],
             [
              0.3333333333333333,
              "#9c179e"
             ],
             [
              0.4444444444444444,
              "#bd3786"
             ],
             [
              0.5555555555555556,
              "#d8576b"
             ],
             [
              0.6666666666666666,
              "#ed7953"
             ],
             [
              0.7777777777777778,
              "#fb9f3a"
             ],
             [
              0.8888888888888888,
              "#fdca26"
             ],
             [
              1,
              "#f0f921"
             ]
            ],
            "type": "histogram2dcontour"
           }
          ],
          "mesh3d": [
           {
            "colorbar": {
             "outlinewidth": 0,
             "ticks": ""
            },
            "type": "mesh3d"
           }
          ],
          "parcoords": [
           {
            "line": {
             "colorbar": {
              "outlinewidth": 0,
              "ticks": ""
             }
            },
            "type": "parcoords"
           }
          ],
          "pie": [
           {
            "automargin": true,
            "type": "pie"
           }
          ],
          "scatter": [
           {
            "fillpattern": {
             "fillmode": "overlay",
             "size": 10,
             "solidity": 0.2
            },
            "type": "scatter"
           }
          ],
          "scatter3d": [
           {
            "line": {
             "colorbar": {
              "outlinewidth": 0,
              "ticks": ""
             }
            },
            "marker": {
             "colorbar": {
              "outlinewidth": 0,
              "ticks": ""
             }
            },
            "type": "scatter3d"
           }
          ],
          "scattercarpet": [
           {
            "marker": {
             "colorbar": {
              "outlinewidth": 0,
              "ticks": ""
             }
            },
            "type": "scattercarpet"
           }
          ],
          "scattergeo": [
           {
            "marker": {
             "colorbar": {
              "outlinewidth": 0,
              "ticks": ""
             }
            },
            "type": "scattergeo"
           }
          ],
          "scattergl": [
           {
            "marker": {
             "colorbar": {
              "outlinewidth": 0,
              "ticks": ""
             }
            },
            "type": "scattergl"
           }
          ],
          "scattermapbox": [
           {
            "marker": {
             "colorbar": {
              "outlinewidth": 0,
              "ticks": ""
             }
            },
            "type": "scattermapbox"
           }
          ],
          "scatterpolar": [
           {
            "marker": {
             "colorbar": {
              "outlinewidth": 0,
              "ticks": ""
             }
            },
            "type": "scatterpolar"
           }
          ],
          "scatterpolargl": [
           {
            "marker": {
             "colorbar": {
              "outlinewidth": 0,
              "ticks": ""
             }
            },
            "type": "scatterpolargl"
           }
          ],
          "scatterternary": [
           {
            "marker": {
             "colorbar": {
              "outlinewidth": 0,
              "ticks": ""
             }
            },
            "type": "scatterternary"
           }
          ],
          "surface": [
           {
            "colorbar": {
             "outlinewidth": 0,
             "ticks": ""
            },
            "colorscale": [
             [
              0,
              "#0d0887"
             ],
             [
              0.1111111111111111,
              "#46039f"
             ],
             [
              0.2222222222222222,
              "#7201a8"
             ],
             [
              0.3333333333333333,
              "#9c179e"
             ],
             [
              0.4444444444444444,
              "#bd3786"
             ],
             [
              0.5555555555555556,
              "#d8576b"
             ],
             [
              0.6666666666666666,
              "#ed7953"
             ],
             [
              0.7777777777777778,
              "#fb9f3a"
             ],
             [
              0.8888888888888888,
              "#fdca26"
             ],
             [
              1,
              "#f0f921"
             ]
            ],
            "type": "surface"
           }
          ],
          "table": [
           {
            "cells": {
             "fill": {
              "color": "#EBF0F8"
             },
             "line": {
              "color": "white"
             }
            },
            "header": {
             "fill": {
              "color": "#C8D4E3"
             },
             "line": {
              "color": "white"
             }
            },
            "type": "table"
           }
          ]
         },
         "layout": {
          "annotationdefaults": {
           "arrowcolor": "#2a3f5f",
           "arrowhead": 0,
           "arrowwidth": 1
          },
          "autotypenumbers": "strict",
          "coloraxis": {
           "colorbar": {
            "outlinewidth": 0,
            "ticks": ""
           }
          },
          "colorscale": {
           "diverging": [
            [
             0,
             "#8e0152"
            ],
            [
             0.1,
             "#c51b7d"
            ],
            [
             0.2,
             "#de77ae"
            ],
            [
             0.3,
             "#f1b6da"
            ],
            [
             0.4,
             "#fde0ef"
            ],
            [
             0.5,
             "#f7f7f7"
            ],
            [
             0.6,
             "#e6f5d0"
            ],
            [
             0.7,
             "#b8e186"
            ],
            [
             0.8,
             "#7fbc41"
            ],
            [
             0.9,
             "#4d9221"
            ],
            [
             1,
             "#276419"
            ]
           ],
           "sequential": [
            [
             0,
             "#0d0887"
            ],
            [
             0.1111111111111111,
             "#46039f"
            ],
            [
             0.2222222222222222,
             "#7201a8"
            ],
            [
             0.3333333333333333,
             "#9c179e"
            ],
            [
             0.4444444444444444,
             "#bd3786"
            ],
            [
             0.5555555555555556,
             "#d8576b"
            ],
            [
             0.6666666666666666,
             "#ed7953"
            ],
            [
             0.7777777777777778,
             "#fb9f3a"
            ],
            [
             0.8888888888888888,
             "#fdca26"
            ],
            [
             1,
             "#f0f921"
            ]
           ],
           "sequentialminus": [
            [
             0,
             "#0d0887"
            ],
            [
             0.1111111111111111,
             "#46039f"
            ],
            [
             0.2222222222222222,
             "#7201a8"
            ],
            [
             0.3333333333333333,
             "#9c179e"
            ],
            [
             0.4444444444444444,
             "#bd3786"
            ],
            [
             0.5555555555555556,
             "#d8576b"
            ],
            [
             0.6666666666666666,
             "#ed7953"
            ],
            [
             0.7777777777777778,
             "#fb9f3a"
            ],
            [
             0.8888888888888888,
             "#fdca26"
            ],
            [
             1,
             "#f0f921"
            ]
           ]
          },
          "colorway": [
           "#636efa",
           "#EF553B",
           "#00cc96",
           "#ab63fa",
           "#FFA15A",
           "#19d3f3",
           "#FF6692",
           "#B6E880",
           "#FF97FF",
           "#FECB52"
          ],
          "font": {
           "color": "#2a3f5f"
          },
          "geo": {
           "bgcolor": "white",
           "lakecolor": "white",
           "landcolor": "white",
           "showlakes": true,
           "showland": true,
           "subunitcolor": "#C8D4E3"
          },
          "hoverlabel": {
           "align": "left"
          },
          "hovermode": "closest",
          "mapbox": {
           "style": "light"
          },
          "paper_bgcolor": "white",
          "plot_bgcolor": "white",
          "polar": {
           "angularaxis": {
            "gridcolor": "#EBF0F8",
            "linecolor": "#EBF0F8",
            "ticks": ""
           },
           "bgcolor": "white",
           "radialaxis": {
            "gridcolor": "#EBF0F8",
            "linecolor": "#EBF0F8",
            "ticks": ""
           }
          },
          "scene": {
           "xaxis": {
            "backgroundcolor": "white",
            "gridcolor": "#DFE8F3",
            "gridwidth": 2,
            "linecolor": "#EBF0F8",
            "showbackground": true,
            "ticks": "",
            "zerolinecolor": "#EBF0F8"
           },
           "yaxis": {
            "backgroundcolor": "white",
            "gridcolor": "#DFE8F3",
            "gridwidth": 2,
            "linecolor": "#EBF0F8",
            "showbackground": true,
            "ticks": "",
            "zerolinecolor": "#EBF0F8"
           },
           "zaxis": {
            "backgroundcolor": "white",
            "gridcolor": "#DFE8F3",
            "gridwidth": 2,
            "linecolor": "#EBF0F8",
            "showbackground": true,
            "ticks": "",
            "zerolinecolor": "#EBF0F8"
           }
          },
          "shapedefaults": {
           "line": {
            "color": "#2a3f5f"
           }
          },
          "ternary": {
           "aaxis": {
            "gridcolor": "#DFE8F3",
            "linecolor": "#A2B1C6",
            "ticks": ""
           },
           "baxis": {
            "gridcolor": "#DFE8F3",
            "linecolor": "#A2B1C6",
            "ticks": ""
           },
           "bgcolor": "white",
           "caxis": {
            "gridcolor": "#DFE8F3",
            "linecolor": "#A2B1C6",
            "ticks": ""
           }
          },
          "title": {
           "x": 0.05
          },
          "xaxis": {
           "automargin": true,
           "gridcolor": "#EBF0F8",
           "linecolor": "#EBF0F8",
           "ticks": "",
           "title": {
            "standoff": 15
           },
           "zerolinecolor": "#EBF0F8",
           "zerolinewidth": 2
          },
          "yaxis": {
           "automargin": true,
           "gridcolor": "#EBF0F8",
           "linecolor": "#EBF0F8",
           "ticks": "",
           "title": {
            "standoff": 15
           },
           "zerolinecolor": "#EBF0F8",
           "zerolinewidth": 2
          }
         }
        },
        "title": {
         "text": "Top 5 Genre dengan Jumlah Review Terbanyak di Setiap Tag"
        }
       }
      }
     },
     "metadata": {},
     "output_type": "display_data"
    }
   ],
   "source": [
    "# Menentukan kategori tag\n",
    "df['tag'] = 'Non-Tag'\n",
    "df.loc[df['isBestSeller'], 'tag'] = 'BestSeller'\n",
    "df.loc[df['isEditorsPick'], 'tag'] = 'EditorsPick'\n",
    "df.loc[df['isGoodReadsChoice'], 'tag'] = 'GoodReadsChoice'\n",
    "\n",
    "# Menghitung total jumlah review untuk setiap genre di setiap tag\n",
    "genre_review_summary = df.groupby(['tag', 'category_name'])['reviews'].sum().reset_index()\n",
    "\n",
    "# Mengambil top 5 genre dengan jumlah review terbanyak untuk setiap tag\n",
    "top_5_genre_reviews = genre_review_summary.groupby('tag', as_index=False).apply(lambda x: x.nlargest(5, 'reviews')).reset_index(drop=True)\n",
    "\n",
    "# Plotting pie chart untuk komposisi top 5 genre berdasarkan jumlah review\n",
    "fig_pie = px.pie(\n",
    "    top_5_genre_reviews,\n",
    "    values='reviews',\n",
    "    names='category_name',\n",
    "    title='Top 5 Genre dengan Jumlah Review Terbanyak di Setiap Tag',\n",
    "    color='category_name',  # Membedakan warna berdasarkan genre\n",
    "    template='plotly_white',\n",
    "    facet_col='tag'  # Memisahkan pie chart untuk setiap tag\n",
    ")\n",
    "\n",
    "# Menampilkan pie chart\n",
    "fig_pie.show()\n"
   ]
  },
  {
   "cell_type": "markdown",
   "metadata": {},
   "source": [
    "Hasil ini menunjukkan distribusi jumlah review berdasarkan genre untuk masing-masing tag (BestSeller, EditorsPick, GoodReadsChoice, dan Non-Tag). Berikut adalah analisis dari hasil tersebut:\n",
    "\n",
    "- BestSeller:\n",
    "\n",
    "Genre Literature & Fiction mendominasi dengan 407,556 review, menyumbang sekitar 26.27% dari total review untuk tag ini.\n",
    "Biographies & Memoirs dan Religion & Spirituality juga memiliki kontribusi signifikan, masing-masing dengan 367,792 review (23.70%) dan 198,958 review (12.82%).\n",
    "Genre-genre lain seperti Politics & Social Sciences dan Teen & Young Adult memiliki kontribusi yang lebih kecil, tetapi tetap menunjukkan ketertarikan di kalangan pembaca.\n",
    "\n",
    "- EditorsPick:\n",
    "\n",
    "Tag ini menunjukkan dominasi yang sangat kuat dari Literature & Fiction, yang memiliki 7,055,825 review, setara dengan 57.44% dari total review untuk tag ini. Ini menunjukkan bahwa genre ini sangat populer dan disukai oleh pembaca yang memilih buku yang direkomendasikan.\n",
    "Genre Biographies & Memoirs juga menunjukkan kontribusi besar dengan 3,014,803 review (24.54%).\n",
    "Genre lainnya seperti Teen & Young Adult dan Politics & Social Sciences memiliki kontribusi yang lebih kecil, tetapi tetap relevan.\n",
    "\n",
    "- GoodReadsChoice:\n",
    "\n",
    "Literature & Fiction kembali menunjukkan hasil luar biasa dengan 2,993,059 review (65.54%), yang menandakan preferensi pembaca untuk genre ini di antara buku yang dipilih oleh pengguna GoodReads.\n",
    "Biographies & Memoirs dan Teen & Young Adult juga mendapat perhatian dengan masing-masing 743,060 review (16.27%) dan 315,305 review (6.90%).\n",
    "\n",
    "- Non-Tag:\n",
    "\n",
    "Genre Literature & Fiction juga mendominasi di kategori Non-Tag dengan 5,396,750 review (25.29%), menunjukkan popularitas yang konsisten.\n",
    "Genre Biographies & Memoirs dan Religion & Spirituality juga memiliki kontribusi signifikan dengan 3,394,644 review (15.91%) dan 2,415,464 review (11.32%).\n",
    "Hasil ini secara keseluruhan menunjukkan bahwa Literature & Fiction adalah genre yang paling populer di semua tag, sementara Biographies & Memoirs juga memiliki kontribusi yang signifikan. Dalam pie chart Saya, Saya dapat menggunakan data ini untuk menyoroti proporsi masing-masing genre dalam konteks tag yang berbeda, memberikan gambaran yang jelas mengenai preferensi pembaca dalam setiap kategori. Visualisasi ini membantu mengidentifikasi genre mana yang paling banyak diminati oleh pembaca untuk masing-masing tag, serta menunjukkan tren yang jelas dalam preferensi genre."
   ]
  },
  {
   "cell_type": "markdown",
   "metadata": {},
   "source": [
    "### 4. Tag mana yang paling berpengaruh berdasarkan jumlah review?"
   ]
  },
  {
   "cell_type": "markdown",
   "metadata": {},
   "source": [
    "Saya menggunakan bar chart untuk menjawab pertanyaan ini karena chart ini secara efektif menggambarkan perbandingan jumlah review antar kategori tag. Dengan bar chart, perbedaan ukuran setiap kategori dapat dilihat dengan jelas, memudahkan analisis visual tentang seberapa banyak masing-masing tag berkontribusi terhadap total jumlah review. Selain itu, bar chart memungkinkan pemirsa untuk dengan cepat memahami hierarki dan prioritas antara kategori, yang penting dalam mengevaluasi dampak berbagai tag terhadap interaksi pembaca. Dengan informasi ini, saya dapat menyampaikan insights yang lebih mendalam mengenai bagaimana tag-tag tersebut berpengaruh terhadap jumlah review yang diterima."
   ]
  },
  {
   "cell_type": "code",
   "execution_count": 413,
   "metadata": {},
   "outputs": [
    {
     "data": {
      "application/vnd.plotly.v1+json": {
       "config": {
        "plotlyServerURL": "https://plot.ly"
       },
       "data": [
        {
         "alignmentgroup": "True",
         "hovertemplate": "Tag=%{x}<br>Jumlah Review=%{y}<extra></extra>",
         "legendgroup": "",
         "marker": {
          "color": "#636efa",
          "pattern": {
           "shape": ""
          }
         },
         "name": "",
         "offsetgroup": "",
         "orientation": "v",
         "showlegend": false,
         "textposition": "auto",
         "type": "bar",
         "x": [
          "Non-Tag",
          "EditorsPick",
          "GoodReadsChoice",
          "BestSeller"
         ],
         "xaxis": "x",
         "y": [
          21338387,
          12283190,
          4566702,
          1551540
         ],
         "yaxis": "y"
        }
       ],
       "layout": {
        "barmode": "relative",
        "legend": {
         "tracegroupgap": 0
        },
        "template": {
         "data": {
          "bar": [
           {
            "error_x": {
             "color": "#2a3f5f"
            },
            "error_y": {
             "color": "#2a3f5f"
            },
            "marker": {
             "line": {
              "color": "#E5ECF6",
              "width": 0.5
             },
             "pattern": {
              "fillmode": "overlay",
              "size": 10,
              "solidity": 0.2
             }
            },
            "type": "bar"
           }
          ],
          "barpolar": [
           {
            "marker": {
             "line": {
              "color": "#E5ECF6",
              "width": 0.5
             },
             "pattern": {
              "fillmode": "overlay",
              "size": 10,
              "solidity": 0.2
             }
            },
            "type": "barpolar"
           }
          ],
          "carpet": [
           {
            "aaxis": {
             "endlinecolor": "#2a3f5f",
             "gridcolor": "white",
             "linecolor": "white",
             "minorgridcolor": "white",
             "startlinecolor": "#2a3f5f"
            },
            "baxis": {
             "endlinecolor": "#2a3f5f",
             "gridcolor": "white",
             "linecolor": "white",
             "minorgridcolor": "white",
             "startlinecolor": "#2a3f5f"
            },
            "type": "carpet"
           }
          ],
          "choropleth": [
           {
            "colorbar": {
             "outlinewidth": 0,
             "ticks": ""
            },
            "type": "choropleth"
           }
          ],
          "contour": [
           {
            "colorbar": {
             "outlinewidth": 0,
             "ticks": ""
            },
            "colorscale": [
             [
              0,
              "#0d0887"
             ],
             [
              0.1111111111111111,
              "#46039f"
             ],
             [
              0.2222222222222222,
              "#7201a8"
             ],
             [
              0.3333333333333333,
              "#9c179e"
             ],
             [
              0.4444444444444444,
              "#bd3786"
             ],
             [
              0.5555555555555556,
              "#d8576b"
             ],
             [
              0.6666666666666666,
              "#ed7953"
             ],
             [
              0.7777777777777778,
              "#fb9f3a"
             ],
             [
              0.8888888888888888,
              "#fdca26"
             ],
             [
              1,
              "#f0f921"
             ]
            ],
            "type": "contour"
           }
          ],
          "contourcarpet": [
           {
            "colorbar": {
             "outlinewidth": 0,
             "ticks": ""
            },
            "type": "contourcarpet"
           }
          ],
          "heatmap": [
           {
            "colorbar": {
             "outlinewidth": 0,
             "ticks": ""
            },
            "colorscale": [
             [
              0,
              "#0d0887"
             ],
             [
              0.1111111111111111,
              "#46039f"
             ],
             [
              0.2222222222222222,
              "#7201a8"
             ],
             [
              0.3333333333333333,
              "#9c179e"
             ],
             [
              0.4444444444444444,
              "#bd3786"
             ],
             [
              0.5555555555555556,
              "#d8576b"
             ],
             [
              0.6666666666666666,
              "#ed7953"
             ],
             [
              0.7777777777777778,
              "#fb9f3a"
             ],
             [
              0.8888888888888888,
              "#fdca26"
             ],
             [
              1,
              "#f0f921"
             ]
            ],
            "type": "heatmap"
           }
          ],
          "heatmapgl": [
           {
            "colorbar": {
             "outlinewidth": 0,
             "ticks": ""
            },
            "colorscale": [
             [
              0,
              "#0d0887"
             ],
             [
              0.1111111111111111,
              "#46039f"
             ],
             [
              0.2222222222222222,
              "#7201a8"
             ],
             [
              0.3333333333333333,
              "#9c179e"
             ],
             [
              0.4444444444444444,
              "#bd3786"
             ],
             [
              0.5555555555555556,
              "#d8576b"
             ],
             [
              0.6666666666666666,
              "#ed7953"
             ],
             [
              0.7777777777777778,
              "#fb9f3a"
             ],
             [
              0.8888888888888888,
              "#fdca26"
             ],
             [
              1,
              "#f0f921"
             ]
            ],
            "type": "heatmapgl"
           }
          ],
          "histogram": [
           {
            "marker": {
             "pattern": {
              "fillmode": "overlay",
              "size": 10,
              "solidity": 0.2
             }
            },
            "type": "histogram"
           }
          ],
          "histogram2d": [
           {
            "colorbar": {
             "outlinewidth": 0,
             "ticks": ""
            },
            "colorscale": [
             [
              0,
              "#0d0887"
             ],
             [
              0.1111111111111111,
              "#46039f"
             ],
             [
              0.2222222222222222,
              "#7201a8"
             ],
             [
              0.3333333333333333,
              "#9c179e"
             ],
             [
              0.4444444444444444,
              "#bd3786"
             ],
             [
              0.5555555555555556,
              "#d8576b"
             ],
             [
              0.6666666666666666,
              "#ed7953"
             ],
             [
              0.7777777777777778,
              "#fb9f3a"
             ],
             [
              0.8888888888888888,
              "#fdca26"
             ],
             [
              1,
              "#f0f921"
             ]
            ],
            "type": "histogram2d"
           }
          ],
          "histogram2dcontour": [
           {
            "colorbar": {
             "outlinewidth": 0,
             "ticks": ""
            },
            "colorscale": [
             [
              0,
              "#0d0887"
             ],
             [
              0.1111111111111111,
              "#46039f"
             ],
             [
              0.2222222222222222,
              "#7201a8"
             ],
             [
              0.3333333333333333,
              "#9c179e"
             ],
             [
              0.4444444444444444,
              "#bd3786"
             ],
             [
              0.5555555555555556,
              "#d8576b"
             ],
             [
              0.6666666666666666,
              "#ed7953"
             ],
             [
              0.7777777777777778,
              "#fb9f3a"
             ],
             [
              0.8888888888888888,
              "#fdca26"
             ],
             [
              1,
              "#f0f921"
             ]
            ],
            "type": "histogram2dcontour"
           }
          ],
          "mesh3d": [
           {
            "colorbar": {
             "outlinewidth": 0,
             "ticks": ""
            },
            "type": "mesh3d"
           }
          ],
          "parcoords": [
           {
            "line": {
             "colorbar": {
              "outlinewidth": 0,
              "ticks": ""
             }
            },
            "type": "parcoords"
           }
          ],
          "pie": [
           {
            "automargin": true,
            "type": "pie"
           }
          ],
          "scatter": [
           {
            "fillpattern": {
             "fillmode": "overlay",
             "size": 10,
             "solidity": 0.2
            },
            "type": "scatter"
           }
          ],
          "scatter3d": [
           {
            "line": {
             "colorbar": {
              "outlinewidth": 0,
              "ticks": ""
             }
            },
            "marker": {
             "colorbar": {
              "outlinewidth": 0,
              "ticks": ""
             }
            },
            "type": "scatter3d"
           }
          ],
          "scattercarpet": [
           {
            "marker": {
             "colorbar": {
              "outlinewidth": 0,
              "ticks": ""
             }
            },
            "type": "scattercarpet"
           }
          ],
          "scattergeo": [
           {
            "marker": {
             "colorbar": {
              "outlinewidth": 0,
              "ticks": ""
             }
            },
            "type": "scattergeo"
           }
          ],
          "scattergl": [
           {
            "marker": {
             "colorbar": {
              "outlinewidth": 0,
              "ticks": ""
             }
            },
            "type": "scattergl"
           }
          ],
          "scattermapbox": [
           {
            "marker": {
             "colorbar": {
              "outlinewidth": 0,
              "ticks": ""
             }
            },
            "type": "scattermapbox"
           }
          ],
          "scatterpolar": [
           {
            "marker": {
             "colorbar": {
              "outlinewidth": 0,
              "ticks": ""
             }
            },
            "type": "scatterpolar"
           }
          ],
          "scatterpolargl": [
           {
            "marker": {
             "colorbar": {
              "outlinewidth": 0,
              "ticks": ""
             }
            },
            "type": "scatterpolargl"
           }
          ],
          "scatterternary": [
           {
            "marker": {
             "colorbar": {
              "outlinewidth": 0,
              "ticks": ""
             }
            },
            "type": "scatterternary"
           }
          ],
          "surface": [
           {
            "colorbar": {
             "outlinewidth": 0,
             "ticks": ""
            },
            "colorscale": [
             [
              0,
              "#0d0887"
             ],
             [
              0.1111111111111111,
              "#46039f"
             ],
             [
              0.2222222222222222,
              "#7201a8"
             ],
             [
              0.3333333333333333,
              "#9c179e"
             ],
             [
              0.4444444444444444,
              "#bd3786"
             ],
             [
              0.5555555555555556,
              "#d8576b"
             ],
             [
              0.6666666666666666,
              "#ed7953"
             ],
             [
              0.7777777777777778,
              "#fb9f3a"
             ],
             [
              0.8888888888888888,
              "#fdca26"
             ],
             [
              1,
              "#f0f921"
             ]
            ],
            "type": "surface"
           }
          ],
          "table": [
           {
            "cells": {
             "fill": {
              "color": "#EBF0F8"
             },
             "line": {
              "color": "white"
             }
            },
            "header": {
             "fill": {
              "color": "#C8D4E3"
             },
             "line": {
              "color": "white"
             }
            },
            "type": "table"
           }
          ]
         },
         "layout": {
          "annotationdefaults": {
           "arrowcolor": "#2a3f5f",
           "arrowhead": 0,
           "arrowwidth": 1
          },
          "autotypenumbers": "strict",
          "coloraxis": {
           "colorbar": {
            "outlinewidth": 0,
            "ticks": ""
           }
          },
          "colorscale": {
           "diverging": [
            [
             0,
             "#8e0152"
            ],
            [
             0.1,
             "#c51b7d"
            ],
            [
             0.2,
             "#de77ae"
            ],
            [
             0.3,
             "#f1b6da"
            ],
            [
             0.4,
             "#fde0ef"
            ],
            [
             0.5,
             "#f7f7f7"
            ],
            [
             0.6,
             "#e6f5d0"
            ],
            [
             0.7,
             "#b8e186"
            ],
            [
             0.8,
             "#7fbc41"
            ],
            [
             0.9,
             "#4d9221"
            ],
            [
             1,
             "#276419"
            ]
           ],
           "sequential": [
            [
             0,
             "#0d0887"
            ],
            [
             0.1111111111111111,
             "#46039f"
            ],
            [
             0.2222222222222222,
             "#7201a8"
            ],
            [
             0.3333333333333333,
             "#9c179e"
            ],
            [
             0.4444444444444444,
             "#bd3786"
            ],
            [
             0.5555555555555556,
             "#d8576b"
            ],
            [
             0.6666666666666666,
             "#ed7953"
            ],
            [
             0.7777777777777778,
             "#fb9f3a"
            ],
            [
             0.8888888888888888,
             "#fdca26"
            ],
            [
             1,
             "#f0f921"
            ]
           ],
           "sequentialminus": [
            [
             0,
             "#0d0887"
            ],
            [
             0.1111111111111111,
             "#46039f"
            ],
            [
             0.2222222222222222,
             "#7201a8"
            ],
            [
             0.3333333333333333,
             "#9c179e"
            ],
            [
             0.4444444444444444,
             "#bd3786"
            ],
            [
             0.5555555555555556,
             "#d8576b"
            ],
            [
             0.6666666666666666,
             "#ed7953"
            ],
            [
             0.7777777777777778,
             "#fb9f3a"
            ],
            [
             0.8888888888888888,
             "#fdca26"
            ],
            [
             1,
             "#f0f921"
            ]
           ]
          },
          "colorway": [
           "#636efa",
           "#EF553B",
           "#00cc96",
           "#ab63fa",
           "#FFA15A",
           "#19d3f3",
           "#FF6692",
           "#B6E880",
           "#FF97FF",
           "#FECB52"
          ],
          "font": {
           "color": "#2a3f5f"
          },
          "geo": {
           "bgcolor": "white",
           "lakecolor": "white",
           "landcolor": "#E5ECF6",
           "showlakes": true,
           "showland": true,
           "subunitcolor": "white"
          },
          "hoverlabel": {
           "align": "left"
          },
          "hovermode": "closest",
          "mapbox": {
           "style": "light"
          },
          "paper_bgcolor": "white",
          "plot_bgcolor": "#E5ECF6",
          "polar": {
           "angularaxis": {
            "gridcolor": "white",
            "linecolor": "white",
            "ticks": ""
           },
           "bgcolor": "#E5ECF6",
           "radialaxis": {
            "gridcolor": "white",
            "linecolor": "white",
            "ticks": ""
           }
          },
          "scene": {
           "xaxis": {
            "backgroundcolor": "#E5ECF6",
            "gridcolor": "white",
            "gridwidth": 2,
            "linecolor": "white",
            "showbackground": true,
            "ticks": "",
            "zerolinecolor": "white"
           },
           "yaxis": {
            "backgroundcolor": "#E5ECF6",
            "gridcolor": "white",
            "gridwidth": 2,
            "linecolor": "white",
            "showbackground": true,
            "ticks": "",
            "zerolinecolor": "white"
           },
           "zaxis": {
            "backgroundcolor": "#E5ECF6",
            "gridcolor": "white",
            "gridwidth": 2,
            "linecolor": "white",
            "showbackground": true,
            "ticks": "",
            "zerolinecolor": "white"
           }
          },
          "shapedefaults": {
           "line": {
            "color": "#2a3f5f"
           }
          },
          "ternary": {
           "aaxis": {
            "gridcolor": "white",
            "linecolor": "white",
            "ticks": ""
           },
           "baxis": {
            "gridcolor": "white",
            "linecolor": "white",
            "ticks": ""
           },
           "bgcolor": "#E5ECF6",
           "caxis": {
            "gridcolor": "white",
            "linecolor": "white",
            "ticks": ""
           }
          },
          "title": {
           "x": 0.05
          },
          "xaxis": {
           "automargin": true,
           "gridcolor": "white",
           "linecolor": "white",
           "ticks": "",
           "title": {
            "standoff": 15
           },
           "zerolinecolor": "white",
           "zerolinewidth": 2
          },
          "yaxis": {
           "automargin": true,
           "gridcolor": "white",
           "linecolor": "white",
           "ticks": "",
           "title": {
            "standoff": 15
           },
           "zerolinecolor": "white",
           "zerolinewidth": 2
          }
         }
        },
        "title": {
         "text": "Jumlah Review berdasarkan Tag"
        },
        "xaxis": {
         "anchor": "y",
         "domain": [
          0,
          1
         ],
         "title": {
          "text": "Tag"
         }
        },
        "yaxis": {
         "anchor": "x",
         "domain": [
          0,
          1
         ],
         "title": {
          "text": "Jumlah Review"
         }
        }
       }
      }
     },
     "metadata": {},
     "output_type": "display_data"
    }
   ],
   "source": [
    "# Menghitung jumlah review berdasarkan tag\n",
    "tag_review_counts = df.groupby(\n",
    "    ['isBestSeller', 'isEditorsPick', 'isGoodReadsChoice']\n",
    ").agg(total_reviews=('reviews', 'sum')).reset_index()\n",
    "\n",
    "# Menyusun data untuk visualisasi\n",
    "tag_review_counts['tag'] = 'Non-Tag'\n",
    "tag_review_counts.loc[tag_review_counts['isBestSeller'], 'tag'] = 'BestSeller'\n",
    "tag_review_counts.loc[tag_review_counts['isEditorsPick'], 'tag'] = 'EditorsPick'\n",
    "tag_review_counts.loc[tag_review_counts['isGoodReadsChoice'], 'tag'] = 'GoodReadsChoice'\n",
    "\n",
    "# Mengelompokkan berdasarkan tag dan jumlah review\n",
    "tag_review_summary = tag_review_counts.groupby('tag')['total_reviews'].sum().reset_index()\n",
    "\n",
    "# Mengurutkan jumlah review dari yang tertinggi ke terendah\n",
    "tag_review_summary = tag_review_summary.sort_values(by='total_reviews', ascending=False)\n",
    "\n",
    "# Plotting menggunakan Plotly\n",
    "fig = px.bar(tag_review_summary, \n",
    "             x='tag', \n",
    "             y='total_reviews', \n",
    "             title='Jumlah Review berdasarkan Tag',\n",
    "             labels={'total_reviews': 'Jumlah Review', 'tag': 'Tag'})\n",
    "\n",
    "# Menampilkan chart\n",
    "fig.show()\n"
   ]
  },
  {
   "cell_type": "markdown",
   "metadata": {},
   "source": [
    "Hasil analisis menunjukkan bahwa kategori \"Non-Tag\" memiliki jumlah review tertinggi dengan total 21,338,387, diikuti oleh \"EditorsPick\" dengan 12,283,190. Kategori \"GoodReadsChoice\" dan \"BestSeller\" memiliki jumlah review yang jauh lebih rendah, masing-masing 4,566,702 dan 1,551,540. Ini menunjukkan bahwa buku-buku yang tidak diberi label premium mendapatkan perhatian yang lebih besar dari pembaca, yang mungkin mencerminkan preferensi pasar yang lebih luas atau keberadaan buku-buku populer yang tidak terdaftar dalam kategori premium. Meskipun kategori seperti \"EditorsPick\" dan \"GoodReadsChoice\" memiliki jumlah review yang signifikan, angka tersebut masih jauh lebih rendah dibandingkan dengan \"Non-Tag\", menandakan bahwa label premium mungkin tidak selalu berpengaruh pada jumlah ulasan yang diterima. Ini dapat membuka diskusi lebih lanjut tentang efektivitas tag dalam menarik perhatian pembaca dan dampaknya terhadap penjualan atau popularitas buku."
   ]
  },
  {
   "cell_type": "markdown",
   "metadata": {},
   "source": [
    "### 5. Genre mana yang paling banyak dibaca berdasarkan jumlah review di tahun 2023?"
   ]
  },
  {
   "cell_type": "markdown",
   "metadata": {},
   "source": [
    "Bar chart dipilih untuk menjawab pertanyaan ini karena kemampuannya yang efektif dalam membandingkan jumlah review antar berbagai genre secara visual. Dengan menggunakan bar chart, kita dapat dengan jelas melihat perbedaan signifikan dalam jumlah review antara genre-genre yang berbeda, yang membuat informasi lebih mudah dipahami dan mendorong analisis yang lebih cepat. Struktur vertikal atau horizontal dari bar chart juga memungkinkan pembaca untuk dengan mudah mengidentifikasi genre mana yang paling banyak dibaca serta peringkatnya, sehingga memperjelas distribusi popularitas setiap genre di tahun 2023."
   ]
  },
  {
   "cell_type": "code",
   "execution_count": 416,
   "metadata": {},
   "outputs": [
    {
     "data": {
      "application/vnd.plotly.v1+json": {
       "config": {
        "plotlyServerURL": "https://plot.ly"
       },
       "data": [
        {
         "alignmentgroup": "True",
         "hovertemplate": "Genre=%{x}<br>Jumlah Review=%{text}<extra></extra>",
         "legendgroup": "",
         "marker": {
          "color": "#636efa",
          "pattern": {
           "shape": ""
          }
         },
         "name": "",
         "offsetgroup": "",
         "orientation": "v",
         "showlegend": false,
         "text": [
          1433060,
          359807,
          243223,
          201207,
          148895,
          145123,
          120376,
          70536,
          46445,
          45365,
          36380,
          32663,
          28120,
          23761,
          11171,
          5333,
          2922,
          0,
          0,
          0,
          0,
          0,
          0,
          0,
          0,
          0,
          0,
          0
         ],
         "textposition": "auto",
         "type": "bar",
         "x": [
          "Literature & Fiction",
          "Biographies & Memoirs",
          "Politics & Social Sciences",
          "Teen & Young Adult",
          "Religion & Spirituality",
          "LGBTQ+ eBooks",
          "Science Fiction & Fantasy",
          "Self-Help",
          "History",
          "Travel",
          "Arts & Photo graphy",
          "Nonfiction",
          "Education & Teaching",
          "Computers & Technology",
          "Cookbooks, Food & Wine",
          "Parenting & Relationships",
          "Crafts, Hobbies & Home",
          "Health, Fitness & Dieting",
          "Engineering & Transportation",
          "Business & Money",
          "Humor & Entertainment",
          "Law",
          "Medical",
          "Mystery, Thriller & Suspense",
          "Reference",
          "Romance",
          "Science & Math",
          "Sports & Outdoors"
         ],
         "xaxis": "x",
         "y": [
          1433060,
          359807,
          243223,
          201207,
          148895,
          145123,
          120376,
          70536,
          46445,
          45365,
          36380,
          32663,
          28120,
          23761,
          11171,
          5333,
          2922,
          0,
          0,
          0,
          0,
          0,
          0,
          0,
          0,
          0,
          0,
          0
         ],
         "yaxis": "y"
        }
       ],
       "layout": {
        "barmode": "relative",
        "legend": {
         "tracegroupgap": 0
        },
        "template": {
         "data": {
          "bar": [
           {
            "error_x": {
             "color": "#2a3f5f"
            },
            "error_y": {
             "color": "#2a3f5f"
            },
            "marker": {
             "line": {
              "color": "#E5ECF6",
              "width": 0.5
             },
             "pattern": {
              "fillmode": "overlay",
              "size": 10,
              "solidity": 0.2
             }
            },
            "type": "bar"
           }
          ],
          "barpolar": [
           {
            "marker": {
             "line": {
              "color": "#E5ECF6",
              "width": 0.5
             },
             "pattern": {
              "fillmode": "overlay",
              "size": 10,
              "solidity": 0.2
             }
            },
            "type": "barpolar"
           }
          ],
          "carpet": [
           {
            "aaxis": {
             "endlinecolor": "#2a3f5f",
             "gridcolor": "white",
             "linecolor": "white",
             "minorgridcolor": "white",
             "startlinecolor": "#2a3f5f"
            },
            "baxis": {
             "endlinecolor": "#2a3f5f",
             "gridcolor": "white",
             "linecolor": "white",
             "minorgridcolor": "white",
             "startlinecolor": "#2a3f5f"
            },
            "type": "carpet"
           }
          ],
          "choropleth": [
           {
            "colorbar": {
             "outlinewidth": 0,
             "ticks": ""
            },
            "type": "choropleth"
           }
          ],
          "contour": [
           {
            "colorbar": {
             "outlinewidth": 0,
             "ticks": ""
            },
            "colorscale": [
             [
              0,
              "#0d0887"
             ],
             [
              0.1111111111111111,
              "#46039f"
             ],
             [
              0.2222222222222222,
              "#7201a8"
             ],
             [
              0.3333333333333333,
              "#9c179e"
             ],
             [
              0.4444444444444444,
              "#bd3786"
             ],
             [
              0.5555555555555556,
              "#d8576b"
             ],
             [
              0.6666666666666666,
              "#ed7953"
             ],
             [
              0.7777777777777778,
              "#fb9f3a"
             ],
             [
              0.8888888888888888,
              "#fdca26"
             ],
             [
              1,
              "#f0f921"
             ]
            ],
            "type": "contour"
           }
          ],
          "contourcarpet": [
           {
            "colorbar": {
             "outlinewidth": 0,
             "ticks": ""
            },
            "type": "contourcarpet"
           }
          ],
          "heatmap": [
           {
            "colorbar": {
             "outlinewidth": 0,
             "ticks": ""
            },
            "colorscale": [
             [
              0,
              "#0d0887"
             ],
             [
              0.1111111111111111,
              "#46039f"
             ],
             [
              0.2222222222222222,
              "#7201a8"
             ],
             [
              0.3333333333333333,
              "#9c179e"
             ],
             [
              0.4444444444444444,
              "#bd3786"
             ],
             [
              0.5555555555555556,
              "#d8576b"
             ],
             [
              0.6666666666666666,
              "#ed7953"
             ],
             [
              0.7777777777777778,
              "#fb9f3a"
             ],
             [
              0.8888888888888888,
              "#fdca26"
             ],
             [
              1,
              "#f0f921"
             ]
            ],
            "type": "heatmap"
           }
          ],
          "heatmapgl": [
           {
            "colorbar": {
             "outlinewidth": 0,
             "ticks": ""
            },
            "colorscale": [
             [
              0,
              "#0d0887"
             ],
             [
              0.1111111111111111,
              "#46039f"
             ],
             [
              0.2222222222222222,
              "#7201a8"
             ],
             [
              0.3333333333333333,
              "#9c179e"
             ],
             [
              0.4444444444444444,
              "#bd3786"
             ],
             [
              0.5555555555555556,
              "#d8576b"
             ],
             [
              0.6666666666666666,
              "#ed7953"
             ],
             [
              0.7777777777777778,
              "#fb9f3a"
             ],
             [
              0.8888888888888888,
              "#fdca26"
             ],
             [
              1,
              "#f0f921"
             ]
            ],
            "type": "heatmapgl"
           }
          ],
          "histogram": [
           {
            "marker": {
             "pattern": {
              "fillmode": "overlay",
              "size": 10,
              "solidity": 0.2
             }
            },
            "type": "histogram"
           }
          ],
          "histogram2d": [
           {
            "colorbar": {
             "outlinewidth": 0,
             "ticks": ""
            },
            "colorscale": [
             [
              0,
              "#0d0887"
             ],
             [
              0.1111111111111111,
              "#46039f"
             ],
             [
              0.2222222222222222,
              "#7201a8"
             ],
             [
              0.3333333333333333,
              "#9c179e"
             ],
             [
              0.4444444444444444,
              "#bd3786"
             ],
             [
              0.5555555555555556,
              "#d8576b"
             ],
             [
              0.6666666666666666,
              "#ed7953"
             ],
             [
              0.7777777777777778,
              "#fb9f3a"
             ],
             [
              0.8888888888888888,
              "#fdca26"
             ],
             [
              1,
              "#f0f921"
             ]
            ],
            "type": "histogram2d"
           }
          ],
          "histogram2dcontour": [
           {
            "colorbar": {
             "outlinewidth": 0,
             "ticks": ""
            },
            "colorscale": [
             [
              0,
              "#0d0887"
             ],
             [
              0.1111111111111111,
              "#46039f"
             ],
             [
              0.2222222222222222,
              "#7201a8"
             ],
             [
              0.3333333333333333,
              "#9c179e"
             ],
             [
              0.4444444444444444,
              "#bd3786"
             ],
             [
              0.5555555555555556,
              "#d8576b"
             ],
             [
              0.6666666666666666,
              "#ed7953"
             ],
             [
              0.7777777777777778,
              "#fb9f3a"
             ],
             [
              0.8888888888888888,
              "#fdca26"
             ],
             [
              1,
              "#f0f921"
             ]
            ],
            "type": "histogram2dcontour"
           }
          ],
          "mesh3d": [
           {
            "colorbar": {
             "outlinewidth": 0,
             "ticks": ""
            },
            "type": "mesh3d"
           }
          ],
          "parcoords": [
           {
            "line": {
             "colorbar": {
              "outlinewidth": 0,
              "ticks": ""
             }
            },
            "type": "parcoords"
           }
          ],
          "pie": [
           {
            "automargin": true,
            "type": "pie"
           }
          ],
          "scatter": [
           {
            "fillpattern": {
             "fillmode": "overlay",
             "size": 10,
             "solidity": 0.2
            },
            "type": "scatter"
           }
          ],
          "scatter3d": [
           {
            "line": {
             "colorbar": {
              "outlinewidth": 0,
              "ticks": ""
             }
            },
            "marker": {
             "colorbar": {
              "outlinewidth": 0,
              "ticks": ""
             }
            },
            "type": "scatter3d"
           }
          ],
          "scattercarpet": [
           {
            "marker": {
             "colorbar": {
              "outlinewidth": 0,
              "ticks": ""
             }
            },
            "type": "scattercarpet"
           }
          ],
          "scattergeo": [
           {
            "marker": {
             "colorbar": {
              "outlinewidth": 0,
              "ticks": ""
             }
            },
            "type": "scattergeo"
           }
          ],
          "scattergl": [
           {
            "marker": {
             "colorbar": {
              "outlinewidth": 0,
              "ticks": ""
             }
            },
            "type": "scattergl"
           }
          ],
          "scattermapbox": [
           {
            "marker": {
             "colorbar": {
              "outlinewidth": 0,
              "ticks": ""
             }
            },
            "type": "scattermapbox"
           }
          ],
          "scatterpolar": [
           {
            "marker": {
             "colorbar": {
              "outlinewidth": 0,
              "ticks": ""
             }
            },
            "type": "scatterpolar"
           }
          ],
          "scatterpolargl": [
           {
            "marker": {
             "colorbar": {
              "outlinewidth": 0,
              "ticks": ""
             }
            },
            "type": "scatterpolargl"
           }
          ],
          "scatterternary": [
           {
            "marker": {
             "colorbar": {
              "outlinewidth": 0,
              "ticks": ""
             }
            },
            "type": "scatterternary"
           }
          ],
          "surface": [
           {
            "colorbar": {
             "outlinewidth": 0,
             "ticks": ""
            },
            "colorscale": [
             [
              0,
              "#0d0887"
             ],
             [
              0.1111111111111111,
              "#46039f"
             ],
             [
              0.2222222222222222,
              "#7201a8"
             ],
             [
              0.3333333333333333,
              "#9c179e"
             ],
             [
              0.4444444444444444,
              "#bd3786"
             ],
             [
              0.5555555555555556,
              "#d8576b"
             ],
             [
              0.6666666666666666,
              "#ed7953"
             ],
             [
              0.7777777777777778,
              "#fb9f3a"
             ],
             [
              0.8888888888888888,
              "#fdca26"
             ],
             [
              1,
              "#f0f921"
             ]
            ],
            "type": "surface"
           }
          ],
          "table": [
           {
            "cells": {
             "fill": {
              "color": "#EBF0F8"
             },
             "line": {
              "color": "white"
             }
            },
            "header": {
             "fill": {
              "color": "#C8D4E3"
             },
             "line": {
              "color": "white"
             }
            },
            "type": "table"
           }
          ]
         },
         "layout": {
          "annotationdefaults": {
           "arrowcolor": "#2a3f5f",
           "arrowhead": 0,
           "arrowwidth": 1
          },
          "autotypenumbers": "strict",
          "coloraxis": {
           "colorbar": {
            "outlinewidth": 0,
            "ticks": ""
           }
          },
          "colorscale": {
           "diverging": [
            [
             0,
             "#8e0152"
            ],
            [
             0.1,
             "#c51b7d"
            ],
            [
             0.2,
             "#de77ae"
            ],
            [
             0.3,
             "#f1b6da"
            ],
            [
             0.4,
             "#fde0ef"
            ],
            [
             0.5,
             "#f7f7f7"
            ],
            [
             0.6,
             "#e6f5d0"
            ],
            [
             0.7,
             "#b8e186"
            ],
            [
             0.8,
             "#7fbc41"
            ],
            [
             0.9,
             "#4d9221"
            ],
            [
             1,
             "#276419"
            ]
           ],
           "sequential": [
            [
             0,
             "#0d0887"
            ],
            [
             0.1111111111111111,
             "#46039f"
            ],
            [
             0.2222222222222222,
             "#7201a8"
            ],
            [
             0.3333333333333333,
             "#9c179e"
            ],
            [
             0.4444444444444444,
             "#bd3786"
            ],
            [
             0.5555555555555556,
             "#d8576b"
            ],
            [
             0.6666666666666666,
             "#ed7953"
            ],
            [
             0.7777777777777778,
             "#fb9f3a"
            ],
            [
             0.8888888888888888,
             "#fdca26"
            ],
            [
             1,
             "#f0f921"
            ]
           ],
           "sequentialminus": [
            [
             0,
             "#0d0887"
            ],
            [
             0.1111111111111111,
             "#46039f"
            ],
            [
             0.2222222222222222,
             "#7201a8"
            ],
            [
             0.3333333333333333,
             "#9c179e"
            ],
            [
             0.4444444444444444,
             "#bd3786"
            ],
            [
             0.5555555555555556,
             "#d8576b"
            ],
            [
             0.6666666666666666,
             "#ed7953"
            ],
            [
             0.7777777777777778,
             "#fb9f3a"
            ],
            [
             0.8888888888888888,
             "#fdca26"
            ],
            [
             1,
             "#f0f921"
            ]
           ]
          },
          "colorway": [
           "#636efa",
           "#EF553B",
           "#00cc96",
           "#ab63fa",
           "#FFA15A",
           "#19d3f3",
           "#FF6692",
           "#B6E880",
           "#FF97FF",
           "#FECB52"
          ],
          "font": {
           "color": "#2a3f5f"
          },
          "geo": {
           "bgcolor": "white",
           "lakecolor": "white",
           "landcolor": "#E5ECF6",
           "showlakes": true,
           "showland": true,
           "subunitcolor": "white"
          },
          "hoverlabel": {
           "align": "left"
          },
          "hovermode": "closest",
          "mapbox": {
           "style": "light"
          },
          "paper_bgcolor": "white",
          "plot_bgcolor": "#E5ECF6",
          "polar": {
           "angularaxis": {
            "gridcolor": "white",
            "linecolor": "white",
            "ticks": ""
           },
           "bgcolor": "#E5ECF6",
           "radialaxis": {
            "gridcolor": "white",
            "linecolor": "white",
            "ticks": ""
           }
          },
          "scene": {
           "xaxis": {
            "backgroundcolor": "#E5ECF6",
            "gridcolor": "white",
            "gridwidth": 2,
            "linecolor": "white",
            "showbackground": true,
            "ticks": "",
            "zerolinecolor": "white"
           },
           "yaxis": {
            "backgroundcolor": "#E5ECF6",
            "gridcolor": "white",
            "gridwidth": 2,
            "linecolor": "white",
            "showbackground": true,
            "ticks": "",
            "zerolinecolor": "white"
           },
           "zaxis": {
            "backgroundcolor": "#E5ECF6",
            "gridcolor": "white",
            "gridwidth": 2,
            "linecolor": "white",
            "showbackground": true,
            "ticks": "",
            "zerolinecolor": "white"
           }
          },
          "shapedefaults": {
           "line": {
            "color": "#2a3f5f"
           }
          },
          "ternary": {
           "aaxis": {
            "gridcolor": "white",
            "linecolor": "white",
            "ticks": ""
           },
           "baxis": {
            "gridcolor": "white",
            "linecolor": "white",
            "ticks": ""
           },
           "bgcolor": "#E5ECF6",
           "caxis": {
            "gridcolor": "white",
            "linecolor": "white",
            "ticks": ""
           }
          },
          "title": {
           "x": 0.05
          },
          "xaxis": {
           "automargin": true,
           "gridcolor": "white",
           "linecolor": "white",
           "ticks": "",
           "title": {
            "standoff": 15
           },
           "zerolinecolor": "white",
           "zerolinewidth": 2
          },
          "yaxis": {
           "automargin": true,
           "gridcolor": "white",
           "linecolor": "white",
           "ticks": "",
           "title": {
            "standoff": 15
           },
           "zerolinecolor": "white",
           "zerolinewidth": 2
          }
         }
        },
        "title": {
         "text": "Jumlah Review per Genre di Tahun 2023"
        },
        "xaxis": {
         "anchor": "y",
         "domain": [
          0,
          1
         ],
         "title": {
          "text": "Genre"
         }
        },
        "yaxis": {
         "anchor": "x",
         "domain": [
          0,
          1
         ],
         "title": {
          "text": "Jumlah Review"
         }
        }
       }
      }
     },
     "metadata": {},
     "output_type": "display_data"
    }
   ],
   "source": [
    "# Menghitung jumlah review per genre untuk tahun 2023\n",
    "genre_review_2023 = df[df['publishedDate'].dt.year == 2023].groupby('category_name')['reviews'].sum().reset_index()\n",
    "\n",
    "# Mengurutkan berdasarkan jumlah review dari yang tertinggi ke terendah\n",
    "genre_review_2023 = genre_review_2023.sort_values(by='reviews', ascending=False)\n",
    "\n",
    "# Plotting menggunakan Plotly\n",
    "fig = px.bar(genre_review_2023, \n",
    "             x='category_name', \n",
    "             y='reviews', \n",
    "             title='Jumlah Review per Genre di Tahun 2023',\n",
    "             labels={'reviews': 'Jumlah Review', 'category_name': 'Genre'},\n",
    "             text='reviews')\n",
    "\n",
    "# Menampilkan chart\n",
    "fig.show()\n"
   ]
  },
  {
   "cell_type": "markdown",
   "metadata": {},
   "source": [
    "Hasil analisis menunjukkan bahwa genre \"Literature & Fiction\" mendominasi jumlah review di tahun 2023 dengan total 1.433.060 review, yang jauh lebih tinggi dibandingkan genre lainnya. \"Biographies & Memoirs\" mengikuti di posisi kedua dengan 359.807 review, diikuti oleh \"Politics & Social Sciences\" dengan 243.223 review. Genre seperti \"Teen & Young Adult\" dan \"Religion & Spirituality\" juga menunjukkan minat yang signifikan dengan masing-masing 201.207 dan 148.895 review. Namun, sejumlah genre seperti \"Health, Fitness & Dieting\" dan \"Business & Money\" tidak memiliki review sama sekali, menandakan kurangnya perhatian atau popularitas di antara pembaca untuk tahun ini."
   ]
  },
  {
   "cell_type": "markdown",
   "metadata": {},
   "source": [
    "### 6. Bagaimana tren jumlah review untuk setiap tag?"
   ]
  },
  {
   "cell_type": "markdown",
   "metadata": {},
   "source": [
    "Saya menggunakan line chart untuk menjawab pertanyaan tentang tren jumlah review untuk setiap tag karena chart ini sangat efektif dalam menunjukkan perubahan dan pola seiring waktu. Dengan line chart, kita dapat dengan jelas melihat fluktuasi jumlah review dari tahun ke tahun untuk masing-masing tag, yang membantu dalam memahami apakah suatu tag semakin populer atau mengalami penurunan. Line chart juga memungkinkan perbandingan yang mudah antara berbagai tag dalam satu visualisasi, sehingga kita bisa langsung mengidentifikasi tren yang berbeda dan membuat kesimpulan tentang bagaimana masing-masing tag berperforma dalam menarik perhatian pembaca sepanjang periode yang dianalisis."
   ]
  },
  {
   "cell_type": "code",
   "execution_count": 418,
   "metadata": {},
   "outputs": [
    {
     "data": {
      "application/vnd.plotly.v1+json": {
       "config": {
        "plotlyServerURL": "https://plot.ly"
       },
       "data": [
        {
         "hovertemplate": "tag=BestSeller<br>Tahun=%{x}<br>Jumlah Review=%{y}<extra></extra>",
         "legendgroup": "BestSeller",
         "line": {
          "color": "#636efa",
          "dash": "solid"
         },
         "marker": {
          "symbol": "circle"
         },
         "mode": "lines",
         "name": "BestSeller",
         "orientation": "v",
         "showlegend": true,
         "type": "scatter",
         "x": [
          2013,
          2014,
          2015,
          2016,
          2017,
          2018,
          2019,
          2020,
          2021,
          2022,
          2023
         ],
         "xaxis": "x",
         "y": [
          44896,
          58822,
          79928,
          82707,
          247942,
          116464,
          269248,
          104439,
          197338,
          147299,
          202457
         ],
         "yaxis": "y"
        },
        {
         "hovertemplate": "tag=EditorsPick<br>Tahun=%{x}<br>Jumlah Review=%{y}<extra></extra>",
         "legendgroup": "EditorsPick",
         "line": {
          "color": "#EF553B",
          "dash": "solid"
         },
         "marker": {
          "symbol": "circle"
         },
         "mode": "lines",
         "name": "EditorsPick",
         "orientation": "v",
         "showlegend": true,
         "type": "scatter",
         "x": [
          2013,
          2014,
          2015,
          2016,
          2017,
          2018,
          2019,
          2020,
          2021,
          2022,
          2023
         ],
         "xaxis": "x",
         "y": [
          364094,
          696263,
          908569,
          658083,
          1007255,
          1831394,
          1301530,
          1738273,
          1336065,
          1811103,
          630561
         ],
         "yaxis": "y"
        },
        {
         "hovertemplate": "tag=GoodReadsChoice<br>Tahun=%{x}<br>Jumlah Review=%{y}<extra></extra>",
         "legendgroup": "GoodReadsChoice",
         "line": {
          "color": "#00cc96",
          "dash": "solid"
         },
         "marker": {
          "symbol": "circle"
         },
         "mode": "lines",
         "name": "GoodReadsChoice",
         "orientation": "v",
         "showlegend": true,
         "type": "scatter",
         "x": [
          2013,
          2014,
          2015,
          2016,
          2017,
          2018,
          2019,
          2020,
          2021,
          2022,
          2023
         ],
         "xaxis": "x",
         "y": [
          503307,
          234891,
          256873,
          366224,
          792531,
          443257,
          464069,
          820501,
          448991,
          200213,
          35845
         ],
         "yaxis": "y"
        },
        {
         "hovertemplate": "tag=Non-Tag<br>Tahun=%{x}<br>Jumlah Review=%{y}<extra></extra>",
         "legendgroup": "Non-Tag",
         "line": {
          "color": "#ab63fa",
          "dash": "solid"
         },
         "marker": {
          "symbol": "circle"
         },
         "mode": "lines",
         "name": "Non-Tag",
         "orientation": "v",
         "showlegend": true,
         "type": "scatter",
         "x": [
          2013,
          2014,
          2015,
          2016,
          2017,
          2018,
          2019,
          2020,
          2021,
          2022,
          2023
         ],
         "xaxis": "x",
         "y": [
          1336474,
          1390422,
          1374685,
          1609055,
          1603228,
          2006977,
          2579999,
          2458792,
          2595407,
          2297824,
          2085524
         ],
         "yaxis": "y"
        }
       ],
       "layout": {
        "legend": {
         "title": {
          "text": "tag"
         },
         "tracegroupgap": 0
        },
        "template": {
         "data": {
          "bar": [
           {
            "error_x": {
             "color": "#2a3f5f"
            },
            "error_y": {
             "color": "#2a3f5f"
            },
            "marker": {
             "line": {
              "color": "#E5ECF6",
              "width": 0.5
             },
             "pattern": {
              "fillmode": "overlay",
              "size": 10,
              "solidity": 0.2
             }
            },
            "type": "bar"
           }
          ],
          "barpolar": [
           {
            "marker": {
             "line": {
              "color": "#E5ECF6",
              "width": 0.5
             },
             "pattern": {
              "fillmode": "overlay",
              "size": 10,
              "solidity": 0.2
             }
            },
            "type": "barpolar"
           }
          ],
          "carpet": [
           {
            "aaxis": {
             "endlinecolor": "#2a3f5f",
             "gridcolor": "white",
             "linecolor": "white",
             "minorgridcolor": "white",
             "startlinecolor": "#2a3f5f"
            },
            "baxis": {
             "endlinecolor": "#2a3f5f",
             "gridcolor": "white",
             "linecolor": "white",
             "minorgridcolor": "white",
             "startlinecolor": "#2a3f5f"
            },
            "type": "carpet"
           }
          ],
          "choropleth": [
           {
            "colorbar": {
             "outlinewidth": 0,
             "ticks": ""
            },
            "type": "choropleth"
           }
          ],
          "contour": [
           {
            "colorbar": {
             "outlinewidth": 0,
             "ticks": ""
            },
            "colorscale": [
             [
              0,
              "#0d0887"
             ],
             [
              0.1111111111111111,
              "#46039f"
             ],
             [
              0.2222222222222222,
              "#7201a8"
             ],
             [
              0.3333333333333333,
              "#9c179e"
             ],
             [
              0.4444444444444444,
              "#bd3786"
             ],
             [
              0.5555555555555556,
              "#d8576b"
             ],
             [
              0.6666666666666666,
              "#ed7953"
             ],
             [
              0.7777777777777778,
              "#fb9f3a"
             ],
             [
              0.8888888888888888,
              "#fdca26"
             ],
             [
              1,
              "#f0f921"
             ]
            ],
            "type": "contour"
           }
          ],
          "contourcarpet": [
           {
            "colorbar": {
             "outlinewidth": 0,
             "ticks": ""
            },
            "type": "contourcarpet"
           }
          ],
          "heatmap": [
           {
            "colorbar": {
             "outlinewidth": 0,
             "ticks": ""
            },
            "colorscale": [
             [
              0,
              "#0d0887"
             ],
             [
              0.1111111111111111,
              "#46039f"
             ],
             [
              0.2222222222222222,
              "#7201a8"
             ],
             [
              0.3333333333333333,
              "#9c179e"
             ],
             [
              0.4444444444444444,
              "#bd3786"
             ],
             [
              0.5555555555555556,
              "#d8576b"
             ],
             [
              0.6666666666666666,
              "#ed7953"
             ],
             [
              0.7777777777777778,
              "#fb9f3a"
             ],
             [
              0.8888888888888888,
              "#fdca26"
             ],
             [
              1,
              "#f0f921"
             ]
            ],
            "type": "heatmap"
           }
          ],
          "heatmapgl": [
           {
            "colorbar": {
             "outlinewidth": 0,
             "ticks": ""
            },
            "colorscale": [
             [
              0,
              "#0d0887"
             ],
             [
              0.1111111111111111,
              "#46039f"
             ],
             [
              0.2222222222222222,
              "#7201a8"
             ],
             [
              0.3333333333333333,
              "#9c179e"
             ],
             [
              0.4444444444444444,
              "#bd3786"
             ],
             [
              0.5555555555555556,
              "#d8576b"
             ],
             [
              0.6666666666666666,
              "#ed7953"
             ],
             [
              0.7777777777777778,
              "#fb9f3a"
             ],
             [
              0.8888888888888888,
              "#fdca26"
             ],
             [
              1,
              "#f0f921"
             ]
            ],
            "type": "heatmapgl"
           }
          ],
          "histogram": [
           {
            "marker": {
             "pattern": {
              "fillmode": "overlay",
              "size": 10,
              "solidity": 0.2
             }
            },
            "type": "histogram"
           }
          ],
          "histogram2d": [
           {
            "colorbar": {
             "outlinewidth": 0,
             "ticks": ""
            },
            "colorscale": [
             [
              0,
              "#0d0887"
             ],
             [
              0.1111111111111111,
              "#46039f"
             ],
             [
              0.2222222222222222,
              "#7201a8"
             ],
             [
              0.3333333333333333,
              "#9c179e"
             ],
             [
              0.4444444444444444,
              "#bd3786"
             ],
             [
              0.5555555555555556,
              "#d8576b"
             ],
             [
              0.6666666666666666,
              "#ed7953"
             ],
             [
              0.7777777777777778,
              "#fb9f3a"
             ],
             [
              0.8888888888888888,
              "#fdca26"
             ],
             [
              1,
              "#f0f921"
             ]
            ],
            "type": "histogram2d"
           }
          ],
          "histogram2dcontour": [
           {
            "colorbar": {
             "outlinewidth": 0,
             "ticks": ""
            },
            "colorscale": [
             [
              0,
              "#0d0887"
             ],
             [
              0.1111111111111111,
              "#46039f"
             ],
             [
              0.2222222222222222,
              "#7201a8"
             ],
             [
              0.3333333333333333,
              "#9c179e"
             ],
             [
              0.4444444444444444,
              "#bd3786"
             ],
             [
              0.5555555555555556,
              "#d8576b"
             ],
             [
              0.6666666666666666,
              "#ed7953"
             ],
             [
              0.7777777777777778,
              "#fb9f3a"
             ],
             [
              0.8888888888888888,
              "#fdca26"
             ],
             [
              1,
              "#f0f921"
             ]
            ],
            "type": "histogram2dcontour"
           }
          ],
          "mesh3d": [
           {
            "colorbar": {
             "outlinewidth": 0,
             "ticks": ""
            },
            "type": "mesh3d"
           }
          ],
          "parcoords": [
           {
            "line": {
             "colorbar": {
              "outlinewidth": 0,
              "ticks": ""
             }
            },
            "type": "parcoords"
           }
          ],
          "pie": [
           {
            "automargin": true,
            "type": "pie"
           }
          ],
          "scatter": [
           {
            "fillpattern": {
             "fillmode": "overlay",
             "size": 10,
             "solidity": 0.2
            },
            "type": "scatter"
           }
          ],
          "scatter3d": [
           {
            "line": {
             "colorbar": {
              "outlinewidth": 0,
              "ticks": ""
             }
            },
            "marker": {
             "colorbar": {
              "outlinewidth": 0,
              "ticks": ""
             }
            },
            "type": "scatter3d"
           }
          ],
          "scattercarpet": [
           {
            "marker": {
             "colorbar": {
              "outlinewidth": 0,
              "ticks": ""
             }
            },
            "type": "scattercarpet"
           }
          ],
          "scattergeo": [
           {
            "marker": {
             "colorbar": {
              "outlinewidth": 0,
              "ticks": ""
             }
            },
            "type": "scattergeo"
           }
          ],
          "scattergl": [
           {
            "marker": {
             "colorbar": {
              "outlinewidth": 0,
              "ticks": ""
             }
            },
            "type": "scattergl"
           }
          ],
          "scattermapbox": [
           {
            "marker": {
             "colorbar": {
              "outlinewidth": 0,
              "ticks": ""
             }
            },
            "type": "scattermapbox"
           }
          ],
          "scatterpolar": [
           {
            "marker": {
             "colorbar": {
              "outlinewidth": 0,
              "ticks": ""
             }
            },
            "type": "scatterpolar"
           }
          ],
          "scatterpolargl": [
           {
            "marker": {
             "colorbar": {
              "outlinewidth": 0,
              "ticks": ""
             }
            },
            "type": "scatterpolargl"
           }
          ],
          "scatterternary": [
           {
            "marker": {
             "colorbar": {
              "outlinewidth": 0,
              "ticks": ""
             }
            },
            "type": "scatterternary"
           }
          ],
          "surface": [
           {
            "colorbar": {
             "outlinewidth": 0,
             "ticks": ""
            },
            "colorscale": [
             [
              0,
              "#0d0887"
             ],
             [
              0.1111111111111111,
              "#46039f"
             ],
             [
              0.2222222222222222,
              "#7201a8"
             ],
             [
              0.3333333333333333,
              "#9c179e"
             ],
             [
              0.4444444444444444,
              "#bd3786"
             ],
             [
              0.5555555555555556,
              "#d8576b"
             ],
             [
              0.6666666666666666,
              "#ed7953"
             ],
             [
              0.7777777777777778,
              "#fb9f3a"
             ],
             [
              0.8888888888888888,
              "#fdca26"
             ],
             [
              1,
              "#f0f921"
             ]
            ],
            "type": "surface"
           }
          ],
          "table": [
           {
            "cells": {
             "fill": {
              "color": "#EBF0F8"
             },
             "line": {
              "color": "white"
             }
            },
            "header": {
             "fill": {
              "color": "#C8D4E3"
             },
             "line": {
              "color": "white"
             }
            },
            "type": "table"
           }
          ]
         },
         "layout": {
          "annotationdefaults": {
           "arrowcolor": "#2a3f5f",
           "arrowhead": 0,
           "arrowwidth": 1
          },
          "autotypenumbers": "strict",
          "coloraxis": {
           "colorbar": {
            "outlinewidth": 0,
            "ticks": ""
           }
          },
          "colorscale": {
           "diverging": [
            [
             0,
             "#8e0152"
            ],
            [
             0.1,
             "#c51b7d"
            ],
            [
             0.2,
             "#de77ae"
            ],
            [
             0.3,
             "#f1b6da"
            ],
            [
             0.4,
             "#fde0ef"
            ],
            [
             0.5,
             "#f7f7f7"
            ],
            [
             0.6,
             "#e6f5d0"
            ],
            [
             0.7,
             "#b8e186"
            ],
            [
             0.8,
             "#7fbc41"
            ],
            [
             0.9,
             "#4d9221"
            ],
            [
             1,
             "#276419"
            ]
           ],
           "sequential": [
            [
             0,
             "#0d0887"
            ],
            [
             0.1111111111111111,
             "#46039f"
            ],
            [
             0.2222222222222222,
             "#7201a8"
            ],
            [
             0.3333333333333333,
             "#9c179e"
            ],
            [
             0.4444444444444444,
             "#bd3786"
            ],
            [
             0.5555555555555556,
             "#d8576b"
            ],
            [
             0.6666666666666666,
             "#ed7953"
            ],
            [
             0.7777777777777778,
             "#fb9f3a"
            ],
            [
             0.8888888888888888,
             "#fdca26"
            ],
            [
             1,
             "#f0f921"
            ]
           ],
           "sequentialminus": [
            [
             0,
             "#0d0887"
            ],
            [
             0.1111111111111111,
             "#46039f"
            ],
            [
             0.2222222222222222,
             "#7201a8"
            ],
            [
             0.3333333333333333,
             "#9c179e"
            ],
            [
             0.4444444444444444,
             "#bd3786"
            ],
            [
             0.5555555555555556,
             "#d8576b"
            ],
            [
             0.6666666666666666,
             "#ed7953"
            ],
            [
             0.7777777777777778,
             "#fb9f3a"
            ],
            [
             0.8888888888888888,
             "#fdca26"
            ],
            [
             1,
             "#f0f921"
            ]
           ]
          },
          "colorway": [
           "#636efa",
           "#EF553B",
           "#00cc96",
           "#ab63fa",
           "#FFA15A",
           "#19d3f3",
           "#FF6692",
           "#B6E880",
           "#FF97FF",
           "#FECB52"
          ],
          "font": {
           "color": "#2a3f5f"
          },
          "geo": {
           "bgcolor": "white",
           "lakecolor": "white",
           "landcolor": "#E5ECF6",
           "showlakes": true,
           "showland": true,
           "subunitcolor": "white"
          },
          "hoverlabel": {
           "align": "left"
          },
          "hovermode": "closest",
          "mapbox": {
           "style": "light"
          },
          "paper_bgcolor": "white",
          "plot_bgcolor": "#E5ECF6",
          "polar": {
           "angularaxis": {
            "gridcolor": "white",
            "linecolor": "white",
            "ticks": ""
           },
           "bgcolor": "#E5ECF6",
           "radialaxis": {
            "gridcolor": "white",
            "linecolor": "white",
            "ticks": ""
           }
          },
          "scene": {
           "xaxis": {
            "backgroundcolor": "#E5ECF6",
            "gridcolor": "white",
            "gridwidth": 2,
            "linecolor": "white",
            "showbackground": true,
            "ticks": "",
            "zerolinecolor": "white"
           },
           "yaxis": {
            "backgroundcolor": "#E5ECF6",
            "gridcolor": "white",
            "gridwidth": 2,
            "linecolor": "white",
            "showbackground": true,
            "ticks": "",
            "zerolinecolor": "white"
           },
           "zaxis": {
            "backgroundcolor": "#E5ECF6",
            "gridcolor": "white",
            "gridwidth": 2,
            "linecolor": "white",
            "showbackground": true,
            "ticks": "",
            "zerolinecolor": "white"
           }
          },
          "shapedefaults": {
           "line": {
            "color": "#2a3f5f"
           }
          },
          "ternary": {
           "aaxis": {
            "gridcolor": "white",
            "linecolor": "white",
            "ticks": ""
           },
           "baxis": {
            "gridcolor": "white",
            "linecolor": "white",
            "ticks": ""
           },
           "bgcolor": "#E5ECF6",
           "caxis": {
            "gridcolor": "white",
            "linecolor": "white",
            "ticks": ""
           }
          },
          "title": {
           "x": 0.05
          },
          "xaxis": {
           "automargin": true,
           "gridcolor": "white",
           "linecolor": "white",
           "ticks": "",
           "title": {
            "standoff": 15
           },
           "zerolinecolor": "white",
           "zerolinewidth": 2
          },
          "yaxis": {
           "automargin": true,
           "gridcolor": "white",
           "linecolor": "white",
           "ticks": "",
           "title": {
            "standoff": 15
           },
           "zerolinecolor": "white",
           "zerolinewidth": 2
          }
         }
        },
        "title": {
         "text": "Tren Jumlah Review untuk Setiap Tag"
        },
        "xaxis": {
         "anchor": "y",
         "domain": [
          0,
          1
         ],
         "title": {
          "text": "Tahun"
         }
        },
        "yaxis": {
         "anchor": "x",
         "domain": [
          0,
          1
         ],
         "title": {
          "text": "Jumlah Review"
         }
        }
       }
      }
     },
     "metadata": {},
     "output_type": "display_data"
    }
   ],
   "source": [
    "# Menghitung jumlah review berdasarkan tahun dan tag\n",
    "df['year'] = df['publishedDate'].dt.year  # Mengambil tahun dari tanggal publikasi\n",
    "tag_trend = df.groupby(['year', 'tag'])['reviews'].sum().reset_index()\n",
    "\n",
    "# Membuat plot tren dengan Plotly\n",
    "fig_trend = px.line(tag_trend, \n",
    "                    x='year', \n",
    "                    y='reviews', \n",
    "                    color='tag', \n",
    "                    title='Tren Jumlah Review untuk Setiap Tag',\n",
    "                    labels={'reviews': 'Jumlah Review', 'year': 'Tahun'})\n",
    "\n",
    "# Menampilkan chart\n",
    "fig_trend.show()\n"
   ]
  },
  {
   "cell_type": "markdown",
   "metadata": {},
   "source": [
    "Hasil di atas menunjukkan jumlah total review untuk setiap tag dari tahun 2018 hingga 2023. Dari data tersebut, kita dapat melihat tren dan perbandingan antara tag BestSeller, EditorsPick, GoodReadsChoice, dan Non-Tag selama enam tahun terakhir.\n",
    "\n",
    "- BestSeller menunjukkan fluktuasi jumlah review dari 116.464 di tahun 2018 hingga 202.457 di tahun 2023, dengan puncaknya terjadi pada tahun 2019 (269.248 review) dan penurunan di tahun 2020.\n",
    "- EditorsPick menunjukkan tren yang lebih stabil dan tinggi, dengan jumlah review yang mencapai 1.831.394 di tahun 2018 dan mengalami sedikit penurunan ke 630.561 di tahun 2023, tetapi tetap menjadi tag dengan jumlah review tertinggi setiap tahunnya.\n",
    "- GoodReadsChoice menunjukkan jumlah review yang lebih rendah dibandingkan dengan tag lainnya, dengan puncaknya pada tahun 2020 (820.501 review) dan turun tajam di tahun 2023 (35.845 review).\n",
    "- Non-Tag selalu mendominasi jumlah review, menunjukkan tren yang relatif stabil dari 2.006.977 di tahun 2018 hingga 2.085.524 di tahun 2023, dengan penurunan kecil di tahun 2022 sebelum meningkat kembali di tahun 2023.\n",
    "Secara keseluruhan, data ini memberikan wawasan yang jelas mengenai bagaimana jumlah review berfluktuasi dan menunjukkan bahwa tag EditorsPick dan Non-Tag secara konsisten menarik lebih banyak perhatian pembaca dibandingkan dengan tag lainnya. Ini menjadi dasar penting untuk memahami tren pembaca dan bagaimana tag mempengaruhi popularitas buku."
   ]
  },
  {
   "cell_type": "markdown",
   "metadata": {},
   "source": [
    "## **Kesimpulan Analisis Keseluruhan**\n",
    "\n",
    "Berdasarkan enam pertanyaan yang telah dianalisis, berikut adalah kesimpulan yang dapat diambil mengenai performa buku berdasarkan **tag** dan **genre**:\n",
    "\n",
    "- **Dominasi Genre**: Genre **\"Literature & Fiction\"** menunjukkan jumlah review tertinggi, menandakan ketertarikan yang kuat dari pembaca, sedangkan genre lain memiliki jumlah yang jauh lebih rendah.\n",
    "  \n",
    "- **Tren Penjualan Tag**: Buku tanpa tag (**Non-Tag**) konsisten memiliki jumlah review yang jauh lebih tinggi dibandingkan buku dengan **tag premium** seperti **BestSeller**, **EditorsPick**, dan **GoodReadsChoice**, menunjukkan potensi pasar yang belum sepenuhnya dimanfaatkan untuk buku dengan tag tersebut.\n",
    "  \n",
    "- **Peningkatan Tag**: Buku dengan tag **EditorsPick** dan **GoodReadsChoice** menunjukkan potensi untuk menarik perhatian pembaca, tetapi **BestSeller** perlu strategi tambahan untuk meningkatkan performanya.\n",
    "  \n",
    "- **Tren Waktu**: Selama periode 2018 hingga 2023, tren jumlah review untuk tag premium menunjukkan fluktuasi, di mana tag **EditorsPick** tetap menjadi yang paling banyak dibaca meskipun jumlahnya menurun di tahun 2023.\n",
    "\n",
    "## **Masukan untuk Tim Publisher dan Marketing**\n",
    "\n",
    "Berdasarkan hasil analisis di atas, berikut adalah rekomendasi untuk tim publisher dan marketing:\n",
    "\n",
    "1. **Promosikan Buku dengan Tag Premium**: Tingkatkan fokus pada buku dengan tag **EditorsPick** dan **GoodReadsChoice** dalam kampanye pemasaran, dengan menonjolkan alasan di balik pemilihan tag tersebut.\n",
    "\n",
    "2. **Kampanye untuk Genre Populer**: Mengingat popularitas genre **\"Literature & Fiction\"**, tim marketing sebaiknya merancang kampanye yang menarik untuk genre ini, mungkin dengan mengadakan acara penandatanganan buku atau diskusi online.\n",
    "\n",
    "3. **Pendekatan pada Non-Tag**: Analisis lebih lanjut diperlukan untuk memahami faktor yang membuat buku tanpa tag lebih populer, dan bagaimana bisa menerapkan beberapa strategi yang sama pada buku dengan tag.\n",
    "\n",
    "4. **Monitoring dan Analisis Tren**: Secara berkala lakukan analisis terhadap tren penjualan dan jumlah review untuk menyesuaikan strategi pemasaran. Pastikan untuk mengevaluasi kampanye sebelumnya untuk memahami efektivitasnya.\n",
    "\n",
    "5. **Mengembangkan Konten Edukasi**: Berikan informasi mendalam melalui konten marketing, seperti blog atau video, mengenai buku-buku dengan tag premium dan kenapa pembaca harus memilihnya.\n",
    "\n",
    "6. **Kolaborasi dengan Pembaca dan Influencer**: Ajak pembaca untuk terlibat dalam promosi buku dengan tag premium dan pertimbangkan untuk bekerja sama dengan influencer yang relevan untuk meningkatkan visibilitas.\n",
    "\n",
    "Dengan mengikuti rekomendasi ini, diharapkan tim publisher dan marketing dapat meningkatkan daya tarik dan performa buku di pasar.\n"
   ]
  }
 ],
 "metadata": {
  "kernelspec": {
   "display_name": "base",
   "language": "python",
   "name": "python3"
  },
  "language_info": {
   "codemirror_mode": {
    "name": "ipython",
    "version": 3
   },
   "file_extension": ".py",
   "mimetype": "text/x-python",
   "name": "python",
   "nbconvert_exporter": "python",
   "pygments_lexer": "ipython3",
   "version": "3.12.3"
  }
 },
 "nbformat": 4,
 "nbformat_minor": 2
}
